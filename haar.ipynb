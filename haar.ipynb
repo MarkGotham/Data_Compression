{
 "cells": [
  {
   "cell_type": "markdown",
   "metadata": {},
   "source": [
    "# Workspace for Data Compression Tasks"
   ]
  },
  {
   "cell_type": "code",
   "execution_count": 2,
   "metadata": {},
   "outputs": [],
   "source": [
    "import numpy as np"
   ]
  },
  {
   "cell_type": "code",
   "execution_count": 4,
   "metadata": {},
   "outputs": [
    {
     "data": {
      "text/markdown": [
       "## Background\n",
       "\n",
       "Probably the simplest type of Wavelet is the co-called 'Haar'.\n",
       "Unlike most, this is not a continuous function as the value is either 0, 1 or -1.\n",
       "The Haar mother wavelet is as follows:\n",
       "\n",
       "$$\n",
       "    \\psi(t) = \\begin{cases}\n",
       "    1 & \\text{if} 0 \\le t < 1/2,\\\\\n",
       "    -1 & \\text{if} 1/2 \\le t < 1,\\\\\n",
       "    0 & \\text{otherwise.}\n",
       "    \\end{cases}\n",
       "$$\n",
       "\n",
       "... and the scaling function needed to handle the DC term is\n",
       "$$\n",
       "    \\phi(t) = \\begin{cases}\n",
       "    1 & \\text{if} 0 \\le t < 1,\\\\\n",
       "    0 & \\text{otherwise}\n",
       "    \\end{cases}\n",
       "$$\n",
       "\n",
       "## Discretizing Haar\n",
       "\n",
       "We can discretize Haar broadly as follows.\n",
       "Let $N = 2^n$, then the Haar matrix ${\\bf H}_N$ is defined recursively.\n",
       "\n",
       "$$\n",
       "    {\\bf H}_2 = \\frac{1}{\\sqrt{2}} \\begin{pmatrix}\n",
       "    1 & 1\\\\\n",
       "    1 & -1\n",
       "    \\end{pmatrix}.\n",
       "$$\n",
       "\n",
       "Then\n",
       "$$\n",
       "    {\\bf H}_{2N} = \\frac{1}{\\sqrt{2}} \\begin{pmatrix}\n",
       "    {\\bf H}_N  \\otimes (1,1)\\\\\n",
       "    {\\bf I}_N \\otimes (1,-1)\n",
       "    \\end{pmatrix},\n",
       "$$\n",
       "where ${\\bf I}_N$ is the identity matrix and $\\otimes$ denotes the\n",
       "[Kronecker product](https://en.wikipedia.org/wiki/Kronecker_product).\n",
       "\n",
       "This results in\n",
       "$$\n",
       "\\begin{align*}\n",
       "    {\\bf H}_4 &= \\frac{1}{ \\sqrt{4} } \\begin{pmatrix}\n",
       "    1           & 1         & 1         & 1\\\\\n",
       "    1           & 1         & -1        & -1\\\\\n",
       "    \\sqrt{2}    & -\\sqrt{2} & 0         & 0\\\\\n",
       "    0           & 0         & \\sqrt{2}  & -\\sqrt{2}\n",
       "    \\end{pmatrix}\\\\\n",
       "\\end{align*} \n",
       "$$\n",
       "\n",
       "and\n",
       "\n",
       "$$\n",
       "\\begin{align*}\n",
       "    {\\bf H}_8 &= \\frac{1}{ \\sqrt{8} } \\begin{pmatrix}\n",
       "    1           & 1         & 1         & 1         & 1         & 1         & 1         & 1\\\\\n",
       "    1           & 1         & 1         & 1         & -1        & -1        & -1        & -1\\\\\n",
       "    \\sqrt{2}    & \\sqrt{2}  & -\\sqrt{2} & -\\sqrt{2} & 0         & 0         & 0         & 0\\\\\n",
       "    0           & 0         & 0         & 0         & \\sqrt{2}  & \\sqrt{2}  & -\\sqrt{2} & -\\sqrt{2}\\\\\n",
       "    2           & -2        & 0         & 0         & 0         & 0         & 0         &  0\\\\\n",
       "    0           & 0         & 2         & -2        & 0         & 0         & 0         &  0\\\\\n",
       "    0           & 0         & 0         & 0         & 2         & -2        & 0         &  0\\\\\n",
       "    0           & 0         & 0         & 0         & 0         & 0         & 2         &  -2\n",
       "    \\end{pmatrix}.\n",
       "\\end{align*}\n",
       "$$\n",
       "\n",
       "## Haar matrix decomposition\n",
       "\n",
       "The Haar matrix can be decomposed by computing averages and differences.\n",
       "For all $N$ powers of $2$, let\n",
       "$$\n",
       "    \\Delta_N = \\frac{1}{\\sqrt{2}} \\begin{pmatrix}\n",
       "    1 & 1 & 0 & 0 & \\dots & 0 & 0\\\\ \n",
       "    0 & 0 & 1 & 1 & \\dots & 0 & 0\\\\\n",
       "    \\vdots & \\ddots & \\dots & \\dots & \\dots & 1 & 1\\\\\n",
       "    1 & -1 & 0 & 0 & \\dots & 0 & 0\\\\ \n",
       "    0 & 0 & 1 & -1 & \\dots & 0 & 0\\\\\n",
       "    \\vdots & \\ddots & \\dots & \\dots & \\dots & 1 & -1\n",
       "    \\end{pmatrix},\n",
       "$$\n",
       "so that\n",
       "$$\n",
       "\\begin{align*}\n",
       "    \\Delta_2 &= \\frac{1}{\\sqrt{2}} \\begin{pmatrix}\n",
       "    1 & 1\\\\\n",
       "    1 & -1\n",
       "    \\end{pmatrix},\\\\\n",
       "    \\Delta_4 &= \\frac{1}{\\sqrt{2}} \\begin{pmatrix}\n",
       "    1 & 1 & 0 & 0\\\\\n",
       "    0 & 0 & 1 & 1\\\\\n",
       "    1 & -1 & 0 & 0\\\\\n",
       "    0 & 0 & 1 & -1\n",
       "    \\end{pmatrix},\\\\\n",
       "    \\Delta_8 &= \\frac{1}{\\sqrt{2}} \\begin{pmatrix}\n",
       "    1 & 1 & 0 & 0 & 0 & 0 & 0 & 0\\\\\n",
       "    0 & 0 & 1 & 1 & 0 & 0 & 0 & 0\\\\\n",
       "    0 & 0 & 0 & 0 & 1 & 1 & 0 & 0\\\\\n",
       "    0 & 0 & 0 & 0 & 0 & 0 & 1 & 1\\\\\n",
       "    1 & -1 & 0 & 0 & 0 & 0 & 0 & 0\\\\\n",
       "    0 & 0 & 1 & -1 & 0 & 0 & 0 & 0\\\\\n",
       "    0 & 0 & 0 & 0 & 1 & -1 & 0 & 0\\\\\n",
       "    0 & 0 & 0 & 0 & 0 & 0 & 1 & -1\n",
       "    \\end{pmatrix}.\n",
       "\\end{align*}\n",
       "$$\n",
       "\n",
       "With this we can decompose any Haar matrix.\n",
       "For exmaple, ${\\bf H}_8$ decomposes as follows:\n",
       "\n",
       "$$\n",
       "\\begin{align*}\n",
       "    {\\bf H}_8 &= \\left(\\begin{array}{c|c}\n",
       "    \\Delta_2 & {\\bf 0}\\\\\n",
       "    \\hline\n",
       "    {\\bf 0} & {\\bf I}_6\n",
       "    \\end{array} \\right)\n",
       "    \\left(\\begin{array}{c|c}\n",
       "    \\Delta_4 & {\\bf 0}\\\\\n",
       "    \\hline\n",
       "    {\\bf 0} & {\\bf I}_4\n",
       "    \\end{array} \\right)\n",
       "    \\left(\\begin{array}{c|c}\n",
       "    {\\Delta_8}\n",
       "    \\end{array} \\right)\\\\\n",
       "    {\\bf H}_8 &=\n",
       "        \\left( \\begin{array}{cc|cccccc}\n",
       "    c & c & 0 & 0 & 0 & 0 & 0 & 0\\\\\n",
       "    c & -c & 0 & 0 & 0 & 0 & 0 & 0\\\\\n",
       "    \\hline\n",
       "    0 & 0 & 1 & 0 & 0 & 0 & 0 & 0\\\\\n",
       "    0 & 0 & 0 & 1 & 0 & 0 & 0 & 0\\\\\n",
       "    0 & 0 & 0 & 0 & 1 & 0 & 0 & 0\\\\\n",
       "    0 & 0 & 0 & 0 & 0 & 1 & 0 & 0\\\\\n",
       "    0 & 0 & 0 & 0 & 0 & 0 & 1 & 0\\\\\n",
       "    0 & 0 & 0 & 0 & 0 & 0 & 0 & 1\n",
       "    \\end{array} \\right)\n",
       "    \\left( \\begin{array}{cccc|cccc}\n",
       "    b & b & 0 & 0 & 0 & 0 & 0 & 0\\\\\n",
       "    0 & 0 & b & b & 0 & 0 & 0 & 0\\\\\n",
       "    b & -b & 0 & 0 & 0 & 0 & 0 & 0\\\\\n",
       "    0 & 0 & b & -b & 0 & 0 & 0 & 0\\\\\n",
       "    \\hline\n",
       "    0 & 0 & 0 & 0 & 1 & 0 & 0 & 0\\\\\n",
       "    0 & 0 & 0 & 0 & 0 & 1 & 0 & 0\\\\\n",
       "    0 & 0 & 0 & 0 & 0 & 0 & 1 & 0\\\\\n",
       "    0 & 0 & 0 & 0 & 0 & 0 & 0 & 1\n",
       "    \\end{array} \\right)\n",
       "    \\left( \\begin{array}{cccccccc}\n",
       "    a & a & 0 & 0 & 0 & 0 & 0 & 0\\\\\n",
       "    0 & 0 & a & a & 0 & 0 & 0 & 0\\\\\n",
       "    0 & 0 & 0 & 0 & a & a & 0 & 0\\\\\n",
       "    0 & 0 & 0 & 0 & 0 & 0 & a & a\\\\\n",
       "    a & -a & 0 & 0 & 0 & 0 & 0 & 0\\\\\n",
       "    0 & 0 & a & -a & 0 & 0 & 0 & 0\\\\\n",
       "    0 & 0 & 0 & 0 & a & -a & 0 & 0\\\\\n",
       "    0 & 0 & 0 & 0 & 0 & 0 & a & -a\n",
       "    \\end{array} \\right),\n",
       "\\end{align*}\n",
       "$$\n",
       "where $a = b = c = \\frac{1}{\\sqrt{2}}$.\n",
       "\n",
       "Let these three constituent matrices be ${\\bf C}$, ${\\bf B}$, and ${\\bf A}$.\n",
       "The product should be read from right to left: ${\\bf H}_8 = {\\bf C}{\\bf B}{\\bf A}$:\n",
       "1. First, ${\\bf A}$ computes the four averages of adjacent points, and keeps their differences in order to remain reversible.\n",
       "2. Second, ${\\bf B}$ does the same as ${\\bf A}$, but only for the four averages (leaving the differences untouched), thus creating two more differences.\n",
       "3. Finally, ${\\bf C}$ computes the average of the remaining two averages, to get one final average and seven other differences.\n",
       "\n",
       "\n",
       "## Task\n",
       "\n",
       "- Type: Implementation\n",
       "- Task:\n",
       "    Implement the examples above for ${\\bf H}_2$ and ${\\bf H}_8$.\n",
       "    Create the identity matrix (${\\bf I}_N$) for scratch.\n",
       "    and use `np.kron` for the Kronecker product ($\\otimes$).\n",
       "- Reference implementation: `haar.h_2`, `haar.h_8` etc."
      ],
      "text/plain": [
       "<IPython.core.display.Markdown object>"
      ]
     },
     "execution_count": 4,
     "metadata": {},
     "output_type": "execute_result"
    }
   ],
   "source": [
    "from IPython.display import Markdown\n",
    "Markdown(\"./tasks/haar.md\")  # Load the task text"
   ]
  },
  {
   "cell_type": "markdown",
   "metadata": {},
   "source": [
    "## Workspace"
   ]
  },
  {
   "cell_type": "code",
   "execution_count": null,
   "metadata": {},
   "outputs": [],
   "source": []
  },
  {
   "cell_type": "code",
   "execution_count": null,
   "metadata": {},
   "outputs": [],
   "source": []
  },
  {
   "cell_type": "code",
   "execution_count": null,
   "metadata": {},
   "outputs": [],
   "source": []
  },
  {
   "cell_type": "markdown",
   "metadata": {},
   "source": [
    "## Reference"
   ]
  },
  {
   "cell_type": "code",
   "execution_count": 6,
   "metadata": {},
   "outputs": [
    {
     "data": {
      "text/markdown": [
       "- Reference implementations are provided in this repo.\n",
       "- The cells below show how to access implementations relevant to this session.\n",
       "\n",
       "How to use?\n",
       "- Try the task yourself in the workspace above, and then import the reference to compare answers.\n",
       "- If you're struggling, find the function named here in the source repo. to compare the approach."
      ],
      "text/plain": [
       "<IPython.core.display.Markdown object>"
      ]
     },
     "execution_count": 6,
     "metadata": {},
     "output_type": "execute_result"
    }
   ],
   "source": [
    "Markdown(\"./tasks/reference.md\")"
   ]
  },
  {
   "cell_type": "code",
   "execution_count": null,
   "metadata": {},
   "outputs": [],
   "source": [
    "from implementations import haar"
   ]
  },
  {
   "cell_type": "code",
   "execution_count": null,
   "metadata": {},
   "outputs": [],
   "source": [
    "haar.h_2"
   ]
  },
  {
   "cell_type": "code",
   "execution_count": null,
   "metadata": {},
   "outputs": [],
   "source": [
    "haar.h_2_norm"
   ]
  },
  {
   "cell_type": "code",
   "execution_count": null,
   "metadata": {},
   "outputs": [],
   "source": [
    "haar.h_8"
   ]
  },
  {
   "cell_type": "code",
   "execution_count": null,
   "metadata": {},
   "outputs": [],
   "source": [
    "haar.h_8_norm"
   ]
  },
  {
   "cell_type": "code",
   "execution_count": null,
   "metadata": {},
   "outputs": [],
   "source": []
  }
 ],
 "metadata": {
  "colab": {
   "provenance": []
  },
  "kernelspec": {
   "display_name": "Python 3 (ipykernel)",
   "language": "python",
   "name": "python3"
  },
  "language_info": {
   "codemirror_mode": {
    "name": "ipython",
    "version": 3
   },
   "file_extension": ".py",
   "mimetype": "text/x-python",
   "name": "python",
   "nbconvert_exporter": "python",
   "pygments_lexer": "ipython3",
   "version": "3.12.4"
  }
 },
 "nbformat": 4,
 "nbformat_minor": 4
}
