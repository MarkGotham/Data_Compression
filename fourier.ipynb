{
 "cells": [
  {
   "cell_type": "markdown",
   "metadata": {},
   "source": [
    "# Workspace for Data Compression Tasks"
   ]
  },
  {
   "cell_type": "code",
   "execution_count": null,
   "metadata": {},
   "outputs": [],
   "source": [
    "import matplotlib.pyplot as plt\n",
    "import numpy as np\n",
    "import pandas as pd"
   ]
  },
  {
   "cell_type": "code",
   "execution_count": null,
   "metadata": {},
   "outputs": [],
   "source": [
    "from IPython.display import Audio"
   ]
  },
  {
   "cell_type": "code",
   "execution_count": null,
   "metadata": {},
   "outputs": [],
   "source": [
    "import numpy as np\n",
    "sr = 22050 # sample rate\n",
    "T = 1.0    # seconds\n",
    "hz = 440   # fundamental frequency\n",
    "a = 1    # amplitude\n",
    "time_array = np.linspace(0, T, int(T * sr))"
   ]
  },
  {
   "cell_type": "code",
   "execution_count": null,
   "metadata": {},
   "outputs": [],
   "source": [
    "x_1 = a * np.sin(2 * np.pi * hz * time_array)"
   ]
  },
  {
   "cell_type": "code",
   "execution_count": null,
   "metadata": {},
   "outputs": [],
   "source": [
    "Audio(x_1, rate=sr)"
   ]
  },
  {
   "cell_type": "markdown",
   "metadata": {},
   "source": [
    "## Workspace"
   ]
  },
  {
   "cell_type": "code",
   "execution_count": null,
   "metadata": {},
   "outputs": [],
   "source": []
  },
  {
   "cell_type": "code",
   "execution_count": 18,
   "metadata": {},
   "outputs": [
    {
     "data": {
      "text/markdown": [
       "## Background\n",
       "\n",
       "Much of the data we work with is periodic, or at least it can be _approximated_ with periodic functions.\n",
       "\n",
       "Given the shared basis in waves, this applies to both sound and image data.\n",
       "\n",
       "The Fourier series and Fourier transform serve to extract and handle that periodicity\n",
       "in ways that have proven widely useful, including for data compression.\n",
       "\n",
       "Now for some maths.\n",
       "\n",
       "$F = Af$, where \n",
       "$f$ is a time signal,\n",
       "$F$ is the discrete Fourier transform (DFT),\n",
       "and $A$ is an $N$x$N$ matrix with coefficients\n",
       "\n",
       "$a_{i,j} = \\frac{1}{\\sqrt{N}} e^{- i \\frac{2\\pi}{N} ij}$,\n",
       "\n",
       "For example, where $N=4$s:\n",
       "$$\n",
       "    {\\bf A} = \\frac{1}{\\sqrt{4}} \\begin{pmatrix}\n",
       "    1 & 1 & 1 & 1\\\\\n",
       "    1 & -i & -1 & i\\\\\n",
       "    1 & -1 & 1 & -1\\\\\n",
       "    1 & i & -1 & -i\n",
       "    \\end{pmatrix}\n",
       "$$\n",
       "\n",
       "## Task\n",
       "\n",
       "- Type: Implement\n",
       "- Tasks:\n",
       "  1. Implement a matrix DFT (of `A` above) from scratch.\n",
       "     - import: only `numpy`\n",
       "     - args: only `n` (`n=4` in this example).\n",
       "  2. Now take your answer to part 1 of this task and modify it to take in a signal `x` of length `n` and return the DFT. \n",
       "     - Hint: use x[i]\n",
       "  3. Finally, write a combined function that computes the DFT, including an internal step for matrix `A`. \n",
       "     - Hint: use `np.dot(x, square_dft_matrix(n))`\n",
       "- Reference implementations:\n",
       "  1. `fourier.square_dft_matrix()`\n",
       "  2. `fourier.dft()`\n",
       "  3. `fourier.dft_at_once()`\n"
      ],
      "text/plain": [
       "<IPython.core.display.Markdown object>"
      ]
     },
     "execution_count": 18,
     "metadata": {},
     "output_type": "execute_result"
    }
   ],
   "source": [
    "from IPython.display import Markdown\n",
    "Markdown(\"./tasks/fourier.md\")  # Load the task text"
   ]
  },
  {
   "cell_type": "markdown",
   "metadata": {},
   "source": [
    "## Reference"
   ]
  },
  {
   "cell_type": "code",
   "execution_count": 5,
   "metadata": {},
   "outputs": [
    {
     "data": {
      "text/markdown": [
       "- Reference implementations are provided in this repo.\n",
       "- The cells below show how to access implementations relevant to this session.\n",
       "\n",
       "How to use?\n",
       "- Try the task yourself in the workspace above, and then import the reference to compare answers.\n",
       "- If you're struggling, find the function named here in the source repo. to compare the approach."
      ],
      "text/plain": [
       "<IPython.core.display.Markdown object>"
      ]
     },
     "execution_count": 5,
     "metadata": {},
     "output_type": "execute_result"
    }
   ],
   "source": [
    "Markdown(\"./tasks/reference.md\")  # Load the reference text"
   ]
  },
  {
   "cell_type": "code",
   "execution_count": null,
   "metadata": {},
   "outputs": [],
   "source": [
    "from implementations import composite_signal, fourier"
   ]
  },
  {
   "cell_type": "code",
   "execution_count": null,
   "metadata": {},
   "outputs": [],
   "source": [
    "composite_signal.run()"
   ]
  },
  {
   "cell_type": "code",
   "execution_count": null,
   "metadata": {},
   "outputs": [],
   "source": [
    "composite_signal.quick_fft()"
   ]
  }
 ],
 "metadata": {
  "colab": {
   "provenance": []
  },
  "kernelspec": {
   "display_name": "Python 3 (ipykernel)",
   "language": "python",
   "name": "python3"
  },
  "language_info": {
   "codemirror_mode": {
    "name": "ipython",
    "version": 3
   },
   "file_extension": ".py",
   "mimetype": "text/x-python",
   "name": "python",
   "nbconvert_exporter": "python",
   "pygments_lexer": "ipython3",
   "version": "3.12.4"
  }
 },
 "nbformat": 4,
 "nbformat_minor": 4
}
