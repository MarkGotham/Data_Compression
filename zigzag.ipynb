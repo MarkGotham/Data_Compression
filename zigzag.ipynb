{
 "cells": [
  {
   "cell_type": "markdown",
   "metadata": {},
   "source": [
    "# Workspace for Data Compression Tasks\n",
    "[Click here for the source repository](https://github.com/MarkGotham/Data_Compression)"
   ]
  },
  {
   "cell_type": "code",
   "execution_count": null,
   "metadata": {},
   "outputs": [],
   "source": [
    "import matplotlib.pyplot as plt\n",
    "import numpy as np\n",
    "import pandas as pd"
   ]
  },
  {
   "cell_type": "code",
   "execution_count": 3,
   "metadata": {},
   "outputs": [
    {
     "data": {
      "text/markdown": [
       "## Background\n",
       "\n",
       "JPEG reads values from a matrix in a 'zigzag'\n",
       "from the 'DC coefficient' (0,0) and continuing as shown below.\n",
       "\n",
       "$$\n",
       "\\begin{pmatrix}\n",
       "\\rightarrow & \\swarrow & \\rightarrow & \\swarrow & \\rightarrow & \\swarrow & \\rightarrow & \\swarrow\\\\\n",
       "\\downarrow & \\nearrow & \\swarrow & \\nearrow & \\swarrow & \\nearrow & \\swarrow & \\downarrow\\\\\n",
       "\\nearrow & \\swarrow &\\nearrow & \\swarrow & \\nearrow & \\swarrow & \\nearrow & \\swarrow\\\\\n",
       "\\downarrow & \\nearrow & \\swarrow & \\nearrow & \\swarrow & \\nearrow & \\swarrow & \\downarrow\\\\\n",
       "\\nearrow & \\swarrow & \\nearrow & \\swarrow & \\nearrow & \\swarrow & \\nearrow & \\swarrow\\\\\n",
       "\\downarrow & \\nearrow & \\swarrow & \\nearrow & \\swarrow & \\nearrow & \\swarrow & \\downarrow\\\\\n",
       "\\nearrow & \\swarrow & \\nearrow & \\swarrow & \\nearrow & \\swarrow & \\nearrow & \\swarrow\\\\\n",
       "\\rightarrow & \\nearrow & \\rightarrow & \\nearrow & \\rightarrow & \\nearrow & \\rightarrow & .\\\\\n",
       "\\end{pmatrix}\n",
       "$$\n",
       "\n",
       "\n",
       "## Task\n",
       "\n",
       "- Type: Implement\n",
       "- Task: Implement the zigzag scan to\n",
       "  - Map from an $M$ x $N$ matrix into a 'flat' list (or $1$ x $MN$ matrix).\n",
       "  - Bonus: Write the inverse function mapping from $1$ x $MN$ to $M$ x $N$. \n",
       "- Reference implementation: `zigzag.transform` (the same function convert both).\n"
      ],
      "text/plain": [
       "<IPython.core.display.Markdown object>"
      ]
     },
     "execution_count": 3,
     "metadata": {},
     "output_type": "execute_result"
    }
   ],
   "source": [
    "from IPython.display import Markdown\n",
    "Markdown(\"./tasks/zigzag.md\")  # Load the task text"
   ]
  },
  {
   "cell_type": "markdown",
   "metadata": {},
   "source": [
    "## Workspace"
   ]
  },
  {
   "cell_type": "code",
   "execution_count": null,
   "metadata": {},
   "outputs": [],
   "source": []
  },
  {
   "cell_type": "code",
   "execution_count": null,
   "metadata": {},
   "outputs": [],
   "source": []
  },
  {
   "cell_type": "code",
   "execution_count": null,
   "metadata": {},
   "outputs": [],
   "source": []
  },
  {
   "cell_type": "markdown",
   "metadata": {},
   "source": [
    "## Reference"
   ]
  },
  {
   "cell_type": "code",
   "execution_count": 5,
   "metadata": {
    "scrolled": true
   },
   "outputs": [
    {
     "data": {
      "text/markdown": [
       "- Reference implementations are provided in this repo.\n",
       "- The cells below show how to access implementations relevant to this session.\n",
       "\n",
       "How to use?\n",
       "- Try the task yourself in the workspace above, and then import the reference to compare answers.\n",
       "- If you're struggling, find the function named here in the source repo. to compare the approach."
      ],
      "text/plain": [
       "<IPython.core.display.Markdown object>"
      ]
     },
     "execution_count": 5,
     "metadata": {},
     "output_type": "execute_result"
    }
   ],
   "source": [
    "Markdown(\"./tasks/reference.md\")  # Load the reference text"
   ]
  },
  {
   "cell_type": "code",
   "execution_count": 6,
   "metadata": {},
   "outputs": [],
   "source": [
    "from implementations import zigzag"
   ]
  },
  {
   "cell_type": "code",
   "execution_count": null,
   "metadata": {},
   "outputs": [],
   "source": []
  }
 ],
 "metadata": {
  "colab": {
   "provenance": []
  },
  "kernelspec": {
   "display_name": "Python 3 (ipykernel)",
   "language": "python",
   "name": "python3"
  },
  "language_info": {
   "codemirror_mode": {
    "name": "ipython",
    "version": 3
   },
   "file_extension": ".py",
   "mimetype": "text/x-python",
   "name": "python",
   "nbconvert_exporter": "python",
   "pygments_lexer": "ipython3",
   "version": "3.12.4"
  }
 },
 "nbformat": 4,
 "nbformat_minor": 4
}
