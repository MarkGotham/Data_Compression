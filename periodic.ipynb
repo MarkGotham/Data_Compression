{
 "cells": [
  {
   "cell_type": "markdown",
   "metadata": {},
   "source": [
    "# Workspace for Data Compression Tasks\n",
    "[Click here for the source repository](https://github.com/MarkGotham/Data_Compression)"
   ]
  },
  {
   "cell_type": "code",
   "execution_count": 1,
   "metadata": {},
   "outputs": [],
   "source": [
    "import matplotlib.pyplot as plt\n",
    "import numpy as np\n",
    "from IPython.display import Audio, Markdown"
   ]
  },
  {
   "cell_type": "code",
   "execution_count": 3,
   "metadata": {},
   "outputs": [
    {
     "data": {
      "text/markdown": [
       "## Background\n",
       "\n",
       "In some data, there's a clear pattern.\n",
       "For example a 'sine' wave goes up and down in a regular way.\n",
       "This kind of patterning can be seen in sound files, images, and much more besides.\n",
       "It is a key part of how we simply and compress complex data.\n",
       "This notebook encourages you to explore that phenomena.\n",
       "\n",
       "\n",
       "## Task\n",
       "\n",
       "- Type: Explore\n",
       "- Task: Create a sin wave (periodic) and noise profile, then\n",
       "    - Plot it as data.\n",
       "    - Create corresponding audio\n",
       "    - Display it as a colour profile (mapped to 2D for convenience)\n",
       "\n",
       "\n",
       "## Also on this repository\n",
       "\n",
       "Here, we create (synthesise) the data from scratch: from parameters to sound signal.\n",
       "Data compression means going in the other direction:\n",
       "taking existing periodic data and \n",
       "working out the approximate sources.\n",
       "For more on that, see\n",
       "[`fourier`](https://github.com/MarkGotham/Data_Compression/blob/main/fourier.ipynb)\n",
       "and\n",
       "[`fourier_roundtrip`](https://github.com/MarkGotham/Data_Compression/blob/main/fourier_roundtrip.ipynb).\n"
      ],
      "text/plain": [
       "<IPython.core.display.Markdown object>"
      ]
     },
     "execution_count": 3,
     "metadata": {},
     "output_type": "execute_result"
    }
   ],
   "source": [
    "Markdown(\"./tasks/periodic.md\")"
   ]
  },
  {
   "cell_type": "markdown",
   "metadata": {},
   "source": [
    "## Workspace"
   ]
  },
  {
   "cell_type": "code",
   "execution_count": null,
   "metadata": {},
   "outputs": [],
   "source": []
  },
  {
   "cell_type": "code",
   "execution_count": null,
   "metadata": {},
   "outputs": [],
   "source": []
  },
  {
   "cell_type": "code",
   "execution_count": null,
   "metadata": {},
   "outputs": [],
   "source": []
  },
  {
   "cell_type": "markdown",
   "metadata": {},
   "source": [
    "## Reference"
   ]
  },
  {
   "cell_type": "code",
   "execution_count": null,
   "metadata": {},
   "outputs": [],
   "source": [
    "import numpy as np\n",
    "sr = 22050 # sample rate\n",
    "T = 1.0    # seconds\n",
    "hz = 440   # frequency\n",
    "time_array = np.linspace(0, T, int(T * sr))\n",
    "data = np.sin(2 * np.pi * hz * time_array)"
   ]
  },
  {
   "cell_type": "code",
   "execution_count": null,
   "metadata": {},
   "outputs": [],
   "source": [
    "plt.plot(data[:500])  # first 500 elements only\n",
    "plt.show()"
   ]
  },
  {
   "cell_type": "code",
   "execution_count": null,
   "metadata": {},
   "outputs": [],
   "source": [
    "Audio(data, rate=sr)"
   ]
  },
  {
   "cell_type": "code",
   "execution_count": null,
   "metadata": {},
   "outputs": [],
   "source": [
    "quasi_image = np.array([data[:500]] * 50)  # again, first 500 (wide) and now 50 times (for 2D)"
   ]
  },
  {
   "cell_type": "code",
   "execution_count": null,
   "metadata": {},
   "outputs": [],
   "source": [
    "plt.imshow(quasi_image)\n",
    "plt.show()"
   ]
  }
 ],
 "metadata": {
  "colab": {
   "provenance": []
  },
  "kernelspec": {
   "display_name": "Python 3 (ipykernel)",
   "language": "python",
   "name": "python3"
  },
  "language_info": {
   "codemirror_mode": {
    "name": "ipython",
    "version": 3
   },
   "file_extension": ".py",
   "mimetype": "text/x-python",
   "name": "python",
   "nbconvert_exporter": "python",
   "pygments_lexer": "ipython3",
   "version": "3.12.4"
  }
 },
 "nbformat": 4,
 "nbformat_minor": 4
}
