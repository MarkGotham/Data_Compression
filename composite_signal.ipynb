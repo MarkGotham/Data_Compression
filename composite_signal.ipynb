{
 "cells": [
  {
   "cell_type": "markdown",
   "metadata": {},
   "source": [
    "# Workspace for Data Compression Tasks"
   ]
  },
  {
   "cell_type": "code",
   "execution_count": null,
   "metadata": {},
   "outputs": [],
   "source": [
    "import matplotlib.pyplot as plt\n",
    "import numpy as np\n",
    "import pandas as pd"
   ]
  },
  {
   "cell_type": "markdown",
   "metadata": {},
   "source": [
    "# Experimentation\n",
    "\n",
    "Experiment with the code below for creating signals and\n",
    "using ipython's `Audio` functionality to hear them back.\n",
    "\n",
    "Try altering the values of the sample rate (`sr`), seconds (`T`), fundamental frequency (`hz`), and amplitude (`a`)."
   ]
  },
  {
   "cell_type": "code",
   "execution_count": null,
   "metadata": {},
   "outputs": [],
   "source": [
    "from IPython.display import Audio"
   ]
  },
  {
   "cell_type": "code",
   "execution_count": null,
   "metadata": {},
   "outputs": [],
   "source": [
    "import numpy as np\n",
    "sr = 22050 # sample rate\n",
    "T = 1.0    # seconds\n",
    "hz = 440   # fundamental frequency\n",
    "a = 1    # amplitude\n",
    "time_array = np.linspace(0, T, int(T * sr))"
   ]
  },
  {
   "cell_type": "code",
   "execution_count": null,
   "metadata": {},
   "outputs": [],
   "source": [
    "x_1 = a * np.sin(2 * np.pi * hz * time_array)"
   ]
  },
  {
   "cell_type": "code",
   "execution_count": null,
   "metadata": {},
   "outputs": [],
   "source": [
    "Audio(x_1, rate=sr)"
   ]
  },
  {
   "cell_type": "markdown",
   "metadata": {},
   "source": [
    "## Workspace"
   ]
  },
  {
   "cell_type": "code",
   "execution_count": null,
   "metadata": {},
   "outputs": [],
   "source": []
  },
  {
   "cell_type": "code",
   "execution_count": 2,
   "metadata": {},
   "outputs": [
    {
     "data": {
      "text/markdown": [
       "## Background\n",
       "\n",
       "As discussed, simple sounds are periodic.\n",
       "The simplest consist of a single periodic sine wave.\n",
       "This is a synthetic sound: nature is almost more complex.\n",
       "A first step towards more realistic sounds involves\n",
       "combining one frequency – the 'fundamental' – with 'partials':\n",
       "other periodic signals with frequencies at integer multiples of the fundamental.\n",
       "\n",
       "## Task\n",
       "\n",
       "- Type: Implement roundtrip.\n",
       "- Task: Generalise the creation of composite signals as follows:\n",
       "    - Chose a fundamental frequency e.g., 100Hz \n",
       "    - Create a periodic function with that frequency (sin or cos). \n",
       "    - Create further periodic functions with integer multiples of this frequency (n) and lower amplitudes, e.g.:\n",
       "      - for every integer multiple (2, 3, 4, ...)\n",
       "      - the amplitude is reduced (1/2, 1/3, 1/4, ... )\n",
       "    - Combine them to make a pseudo-realistic composite waveform.\n",
       "      - Hint: `Audio({time_array_1} + {time_array_1}, rate=sr)`\n",
       "    - Plot the composite signal and all components (_time_ against amplitude)\n",
       "    - Apply DFT to this function \n",
       "      - Bonus: Implement DFT from scratch.\n",
       "    - Plot this DFT (_frequency_ against amplitude)\n",
       "    - Verify that the DFT returns the same frequency:amplitude pairs that you input.\n",
       "- Reference implementation: `composite_signal.run()` (and for the bonus DFT from scratch see the `fourier` task).\n"
      ],
      "text/plain": [
       "<IPython.core.display.Markdown object>"
      ]
     },
     "execution_count": 2,
     "metadata": {},
     "output_type": "execute_result"
    }
   ],
   "source": [
    "from IPython.display import Markdown\n",
    "Markdown(\"./tasks/composite_signal.md\")  # Load the task text"
   ]
  },
  {
   "cell_type": "markdown",
   "metadata": {},
   "source": [
    "## Reference"
   ]
  },
  {
   "cell_type": "code",
   "execution_count": 5,
   "metadata": {},
   "outputs": [
    {
     "data": {
      "text/markdown": [
       "- Reference implementations are provided in this repo.\n",
       "- The cells below show how to access implementations relevant to this session.\n",
       "\n",
       "How to use?\n",
       "- Try the task yourself in the workspace above, and then import the reference to compare answers.\n",
       "- If you're struggling, find the function named here in the source repo. to compare the approach."
      ],
      "text/plain": [
       "<IPython.core.display.Markdown object>"
      ]
     },
     "execution_count": 5,
     "metadata": {},
     "output_type": "execute_result"
    }
   ],
   "source": [
    "Markdown(\"./tasks/reference.md\")  # Load the reference text"
   ]
  },
  {
   "cell_type": "code",
   "execution_count": null,
   "metadata": {},
   "outputs": [],
   "source": [
    "from implementations import composite_signal, fourier"
   ]
  },
  {
   "cell_type": "code",
   "execution_count": null,
   "metadata": {},
   "outputs": [],
   "source": [
    "composite_signal.run()"
   ]
  },
  {
   "cell_type": "code",
   "execution_count": null,
   "metadata": {},
   "outputs": [],
   "source": [
    "composite_signal.quick_fft()"
   ]
  }
 ],
 "metadata": {
  "colab": {
   "provenance": []
  },
  "kernelspec": {
   "display_name": "Python 3 (ipykernel)",
   "language": "python",
   "name": "python3"
  },
  "language_info": {
   "codemirror_mode": {
    "name": "ipython",
    "version": 3
   },
   "file_extension": ".py",
   "mimetype": "text/x-python",
   "name": "python",
   "nbconvert_exporter": "python",
   "pygments_lexer": "ipython3",
   "version": "3.12.4"
  }
 },
 "nbformat": 4,
 "nbformat_minor": 4
}
