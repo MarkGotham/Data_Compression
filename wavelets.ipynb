{
 "cells": [
  {
   "cell_type": "markdown",
   "metadata": {},
   "source": [
    "# Workspace for Data Compression Tasks"
   ]
  },
  {
   "cell_type": "code",
   "execution_count": 2,
   "metadata": {},
   "outputs": [
    {
     "data": {
      "text/markdown": [
       "## Background\n",
       "\n",
       "- The term 'wavelet' refers to a brief, wave-like oscillation of amplitude ($y$) against time ($x$).\n",
       "    - The amplitude begins at $0$, pulses away one or more times, and returns to end at $0$.\n",
       "- There are many 'families' of wavelets (broadly on the specific number and shape of the constituent pulses).\n",
       "- There are also many use cases, including for our purposes of data compression.\n",
       "\n",
       "\n",
       "## Exercises in this repo\n",
       "\n",
       "This exercise is exploratory.\n",
       "Optionally, you can also demonstrate the two properties above.\n",
       "\n",
       "For other, related exercises, click below for:\n",
       "  - [the mathematics of the Haar wavelets](https://github.com/MarkGotham/Data_Compression/blob/main/haar.ipynb)\n",
       "  - [some aspects of the application of Wavelets to JPEG-2000](https://github.com/MarkGotham/Data_Compression/blob/main/jpeg2000.ipynb)\n",
       "\n",
       "\n",
       "## Task\n",
       "\n",
       "- Type:\n",
       "    Exploration\n",
       "- Task:\n",
       "    Explore\n",
       "    the 'pywavelets' wavelet library\n",
       "    using either or both of\n",
       "    - the [Wavelet browser](https://wavelets.pybytes.com/)\n",
       "    - a local copy of the library (`import pywavelets`, note, renamed from `pwyt`)\n",
       "- Bonus:\n",
       "  - Implement (re-create) one or more wavelets from scratch.\n",
       "  - Demonstrate the properties of a given wavelet (e.g., integral sum to 0). \n"
      ],
      "text/plain": [
       "<IPython.core.display.Markdown object>"
      ]
     },
     "execution_count": 2,
     "metadata": {},
     "output_type": "execute_result"
    }
   ],
   "source": [
    "from IPython.display import Markdown\n",
    "Markdown(\"./tasks/wavelets.md\")  # Load the task text"
   ]
  },
  {
   "cell_type": "markdown",
   "metadata": {},
   "source": [
    "## Workspace"
   ]
  },
  {
   "cell_type": "code",
   "execution_count": null,
   "metadata": {},
   "outputs": [],
   "source": []
  },
  {
   "cell_type": "code",
   "execution_count": null,
   "metadata": {},
   "outputs": [],
   "source": []
  },
  {
   "cell_type": "code",
   "execution_count": null,
   "metadata": {},
   "outputs": [],
   "source": []
  },
  {
   "cell_type": "markdown",
   "metadata": {},
   "source": [
    "## Reference"
   ]
  },
  {
   "cell_type": "code",
   "execution_count": 4,
   "metadata": {},
   "outputs": [
    {
     "data": {
      "text/markdown": [
       "- Reference implementations are provided in this repo.\n",
       "- The cells below show how to access implementations relevant to this session.\n",
       "\n",
       "How to use?\n",
       "- Try the task yourself in the workspace above, and then import the reference to compare answers.\n",
       "- If you're struggling, find the function named here in the source repo. to compare the approach."
      ],
      "text/plain": [
       "<IPython.core.display.Markdown object>"
      ]
     },
     "execution_count": 4,
     "metadata": {},
     "output_type": "execute_result"
    }
   ],
   "source": [
    "Markdown(\"./tasks/reference.md\")"
   ]
  },
  {
   "cell_type": "markdown",
   "metadata": {},
   "source": [
    "## Explore Pywavelets"
   ]
  },
  {
   "cell_type": "code",
   "execution_count": null,
   "metadata": {},
   "outputs": [],
   "source": [
    "import numpy as np\n",
    "from pywt import dwt, Wavelet, integrate_wavelet"
   ]
  },
  {
   "cell_type": "code",
   "execution_count": null,
   "metadata": {},
   "outputs": [],
   "source": [
    "cA, cD = dwt(range(20), 'db1')"
   ]
  },
  {
   "cell_type": "code",
   "execution_count": null,
   "metadata": {},
   "outputs": [],
   "source": [
    "cA, cD"
   ]
  },
  {
   "cell_type": "code",
   "execution_count": null,
   "metadata": {},
   "outputs": [],
   "source": [
    "np.sqrt(1/2)"
   ]
  },
  {
   "cell_type": "markdown",
   "metadata": {},
   "source": [
    "Get an example Wavelet, in this case, \"db2\" (2nd in the \"Daubechies\" family)."
   ]
  },
  {
   "cell_type": "code",
   "execution_count": null,
   "metadata": {},
   "outputs": [],
   "source": [
    "wavelet_db2 = Wavelet('db2')"
   ]
  },
  {
   "cell_type": "markdown",
   "metadata": {},
   "source": [
    "The sum of the integral of this Wavelet should be 0 ..."
   ]
  },
  {
   "cell_type": "code",
   "execution_count": null,
   "metadata": {},
   "outputs": [],
   "source": [
    "[int_psi, x] = integrate_wavelet(wavelet_db2, precision=5)\n",
    "np.isclose(sum(int_psi), 0)"
   ]
  },
  {
   "cell_type": "markdown",
   "metadata": {},
   "source": [
    "Have a look at one (i.e., plot it)"
   ]
  },
  {
   "cell_type": "code",
   "execution_count": null,
   "metadata": {},
   "outputs": [],
   "source": [
    "[phi, psi, x] = Wavelet('db2').wavefun(level=4)\n",
    "import pylab\n",
    "pylab.plot(x, psi)\n",
    "pylab.show()"
   ]
  },
  {
   "cell_type": "code",
   "execution_count": null,
   "metadata": {},
   "outputs": [],
   "source": []
  }
 ],
 "metadata": {
  "colab": {
   "provenance": []
  },
  "kernelspec": {
   "display_name": "Python 3 (ipykernel)",
   "language": "python",
   "name": "python3"
  },
  "language_info": {
   "codemirror_mode": {
    "name": "ipython",
    "version": 3
   },
   "file_extension": ".py",
   "mimetype": "text/x-python",
   "name": "python",
   "nbconvert_exporter": "python",
   "pygments_lexer": "ipython3",
   "version": "3.12.4"
  }
 },
 "nbformat": 4,
 "nbformat_minor": 4
}
