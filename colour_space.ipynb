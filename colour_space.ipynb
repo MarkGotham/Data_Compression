{
 "cells": [
  {
   "cell_type": "markdown",
   "metadata": {},
   "source": [
    "# Workspace for Data Compression Tasks"
   ]
  },
  {
   "cell_type": "code",
   "execution_count": 3,
   "metadata": {},
   "outputs": [
    {
     "data": {
      "text/markdown": [
       "## Background\n",
       "\n",
       "One way to encode colour images is with:\n",
       "- a rectangular grid of pixels (the more pixels, the more detail)\n",
       "- 'RGB' values for each pixel, registering the relative strength of red (R), green (G), and blue (B).  \n",
       "\n",
       "\n",
       "## Task\n",
       "\n",
       "1. Type: Explore\n",
       "   - Import an image library and cat picture e.g.,:\n",
       "     - Import the `scikit-image` library (`import skimage as ski`)\n",
       "     - Open their stock image of a cat (`cat = ski.data.chelsea()`, `ski.io.imshow(cat)`, `ski.io.show()`)\n",
       "   - Explore the `shape` of the image (`cat.shape`)\n",
       "   - Retrieve individual pixels and individual colour (RGB) profiles of each pixel\n",
       "2. Type: Implement\n",
       "   - Write a function to modify the colour profile by weighting the R, G, B components of each pixel.\n",
       "\n",
       "Reference implementations are in the notebook (below), e.g. `modify_colour()`.\n"
      ],
      "text/plain": [
       "<IPython.core.display.Markdown object>"
      ]
     },
     "execution_count": 3,
     "metadata": {},
     "output_type": "execute_result"
    }
   ],
   "source": [
    "from IPython.display import Markdown\n",
    "Markdown(\"./tasks/colour_space.md\")  # Load the task text"
   ]
  },
  {
   "cell_type": "markdown",
   "metadata": {},
   "source": [
    "## Workspace"
   ]
  },
  {
   "cell_type": "code",
   "execution_count": null,
   "metadata": {},
   "outputs": [],
   "source": []
  },
  {
   "cell_type": "code",
   "execution_count": null,
   "metadata": {},
   "outputs": [],
   "source": []
  },
  {
   "cell_type": "code",
   "execution_count": null,
   "metadata": {},
   "outputs": [],
   "source": []
  },
  {
   "cell_type": "markdown",
   "metadata": {},
   "source": [
    "## Reference"
   ]
  },
  {
   "cell_type": "code",
   "execution_count": null,
   "metadata": {},
   "outputs": [],
   "source": [
    "import skimage as ski"
   ]
  },
  {
   "cell_type": "code",
   "execution_count": null,
   "metadata": {},
   "outputs": [],
   "source": [
    "cat = ski.data.chelsea()\n",
    "ski.io.imshow(cat)\n",
    "ski.io.show()"
   ]
  },
  {
   "cell_type": "markdown",
   "metadata": {},
   "source": [
    "This image has a `shape` of 3 values:\n",
    "- 2 for size (300, 451)\n",
    "    - check by looking at the x-y grid values above\n",
    "       - and note the m-by-n convetion (not x-by-y)\n",
    "- 1 for the RBG values of each pixel (3)"
   ]
  },
  {
   "cell_type": "code",
   "execution_count": null,
   "metadata": {
    "scrolled": true
   },
   "outputs": [],
   "source": [
    "cat.shape"
   ]
  },
  {
   "cell_type": "markdown",
   "metadata": {},
   "source": [
    "... in other words ..."
   ]
  },
  {
   "cell_type": "code",
   "execution_count": null,
   "metadata": {},
   "outputs": [],
   "source": [
    "cat_columns = cat.shape[0]\n",
    "cat_rows = cat.shape[1]\n",
    "\n",
    "cat_rows"
   ]
  },
  {
   "cell_type": "markdown",
   "metadata": {},
   "source": [
    "We can retrieve any part of the image.\n",
    "\n",
    "Here's the RGB values for the top-left pixel:"
   ]
  },
  {
   "cell_type": "code",
   "execution_count": null,
   "metadata": {
    "scrolled": true
   },
   "outputs": [],
   "source": [
    "cat_top_left = cat[0, 0]\n",
    "cat_top_left"
   ]
  },
  {
   "cell_type": "markdown",
   "metadata": {},
   "source": [
    "RGB are in order, so the first number (here `143`) gives the \"amount\" of red in the top left pixel."
   ]
  },
  {
   "cell_type": "code",
   "execution_count": null,
   "metadata": {},
   "outputs": [],
   "source": [
    "cat_top_left[0]"
   ]
  },
  {
   "cell_type": "markdown",
   "metadata": {},
   "source": [
    "## Paint the town red (or green, or yellow ... )!\n",
    "\n",
    "We can modify the colour profile by weighting the R, G, B components of each pixel.\n",
    "\n",
    "The function below allows you to weight the RGB values."
   ]
  },
  {
   "cell_type": "code",
   "execution_count": null,
   "metadata": {},
   "outputs": [],
   "source": [
    "def modify_colour(\n",
    "    r_weight = 0.2125,\n",
    "    g_weight = 0.7154,\n",
    "    b_weight = 0.0721,\n",
    "    to_grayscale: bool = False,\n",
    "    return_data=True\n",
    "):\n",
    "    \"\"\"\n",
    "    Re-import the cat image and modify the colours\n",
    "    with weightings for the r, g, b values.\n",
    "    E.g.,\n",
    "    setting B to 0 removes the blue component (=yellow).\n",
    "    \n",
    "    If to_grayscale (bool, default = False\n",
    "    \"\"\"\n",
    "    \n",
    "    cat = ski.data.chelsea()\n",
    "    cat_columns = cat.shape[0]\n",
    "    cat_rows = cat.shape[1]\n",
    "\n",
    "    for i in range(cat_columns):\n",
    "        for j in range(cat_rows):\n",
    "            cat[i][j][0] *= r_weight\n",
    "            cat[i][j][1] *= g_weight\n",
    "            cat[i][j][2] *= b_weight\n",
    "            if to_grayscale:\n",
    "                cat[i][j] = sum(cat[i][j])\n",
    "\n",
    "    ski.io.imshow(cat)\n",
    "    ski.io.show()\n",
    "    if return_data:\n",
    "        return cat"
   ]
  },
  {
   "cell_type": "markdown",
   "metadata": {},
   "source": [
    "Explore this functionlity by changingthe numbers below.\n",
    "E.g., when running with\n",
    "- `r_weight = 1` and the other two set to `0`, it'll be red only.\n",
    "- `r_weight = 1` and `g_weight = 1`, but `b_weight = 0`, it'll be yellow (red + green, without blue)."
   ]
  },
  {
   "cell_type": "code",
   "execution_count": null,
   "metadata": {
    "scrolled": true
   },
   "outputs": [],
   "source": [
    "modify_colour(\n",
    "    r_weight = 1,\n",
    "    g_weight = 1,\n",
    "    b_weight = 0\n",
    ")"
   ]
  },
  {
   "cell_type": "markdown",
   "metadata": {},
   "source": [
    "## Make a block a colour"
   ]
  },
  {
   "cell_type": "code",
   "execution_count": null,
   "metadata": {},
   "outputs": [],
   "source": [
    "def modify_block(\n",
    "    r_val = 144,\n",
    "    g_val = 0,\n",
    "    b_val = 0,\n",
    "    column_start = 50,\n",
    "    column_end = 150,\n",
    "    row_start = 50,\n",
    "    row_end = 150\n",
    "):\n",
    "    \"\"\"\n",
    "    Re-import the cat image and modify the colours\n",
    "    of a specific region\n",
    "    with weightings for the r, g, b values.\n",
    "    E.g.,\n",
    "    setting B to 0 removes the blue component (=yellow).\n",
    "    \n",
    "    If to_grayscale (bool, default = False\n",
    "    \"\"\"\n",
    "    \n",
    "    cat = ski.data.chelsea()\n",
    "    cat_columns = cat.shape[0]\n",
    "    cat_rows = cat.shape[1]\n",
    "\n",
    "    for i in range(column_start, column_end):\n",
    "        for j in range(row_start, row_end):\n",
    "            cat[i][j][0] = r_val\n",
    "            cat[i][j][1] = g_val\n",
    "            cat[i][j][2] = b_val\n",
    "\n",
    "    ski.io.imshow(cat)\n",
    "    ski.io.show()"
   ]
  },
  {
   "cell_type": "code",
   "execution_count": null,
   "metadata": {},
   "outputs": [],
   "source": [
    "modify_block()"
   ]
  },
  {
   "cell_type": "markdown",
   "metadata": {},
   "source": [
    "## Human-centered grayscaling\n",
    "\n",
    "Why the does the function above have those defaults for RGB?\n",
    "\n",
    "These are the values used by ski-kit (and many others) to weight RGB into grayscale.\n",
    "\n",
    "Below we run the values of our function above and compare with ski-kit's\n",
    "internal `RGB to grayscale` function, for which the:\n",
    "- [docs are here](https://scikit-image.org/docs/stable/auto_examples/color_exposure/plot_rgb_to_gray.html#rgb-to-grayscale)\n",
    "- [source code is here](https://github.com/scikit-image/scikit-image/blob/v0.22.0/skimage/color/colorconv.py#L912-L955)"
   ]
  },
  {
   "cell_type": "code",
   "execution_count": null,
   "metadata": {},
   "outputs": [],
   "source": [
    "# First with our function, our default weighting values, and `to_grayscale = True`\n",
    "homemade_grayscale = modify_colour(to_grayscale = True)"
   ]
  },
  {
   "cell_type": "code",
   "execution_count": null,
   "metadata": {},
   "outputs": [],
   "source": [
    "# Now with the built-in to grayscale function (rgb2gray)\n",
    "# Looking pretty similar right?\n",
    "cat = ski.data.chelsea()\n",
    "grayscale = ski.color.rgb2gray(cat)\n",
    "ski.io.imshow(grayscale)\n",
    "ski.io.show()"
   ]
  },
  {
   "cell_type": "markdown",
   "metadata": {},
   "source": [
    "Now back to our function, with other (worse) weighting values."
   ]
  },
  {
   "cell_type": "code",
   "execution_count": null,
   "metadata": {
    "scrolled": true
   },
   "outputs": [],
   "source": [
    "## Close to the original\n",
    "# modify_colour(\n",
    "#     r_weight = 0.2,\n",
    "#     g_weight = 0.7,\n",
    "#     b_weight = 0.1,\n",
    "#     to_grayscale = True\n",
    "# )\n",
    "\n",
    "# Far from the original (look at the nose)\n",
    "modify_colour(\n",
    "    r_weight = 0.8,\n",
    "    g_weight = 0.1,\n",
    "    b_weight = 0.1,\n",
    "    to_grayscale = True\n",
    ")"
   ]
  },
  {
   "cell_type": "markdown",
   "metadata": {},
   "source": [
    "## Compare"
   ]
  },
  {
   "cell_type": "code",
   "execution_count": null,
   "metadata": {},
   "outputs": [],
   "source": [
    "n = 250\n",
    "(homemade_grayscale[n][n][0] / 256) - grayscale[n][n]"
   ]
  },
  {
   "cell_type": "code",
   "execution_count": null,
   "metadata": {},
   "outputs": [],
   "source": []
  }
 ],
 "metadata": {
  "colab": {
   "provenance": []
  },
  "kernelspec": {
   "display_name": "Python 3 (ipykernel)",
   "language": "python",
   "name": "python3"
  },
  "language_info": {
   "codemirror_mode": {
    "name": "ipython",
    "version": 3
   },
   "file_extension": ".py",
   "mimetype": "text/x-python",
   "name": "python",
   "nbconvert_exporter": "python",
   "pygments_lexer": "ipython3",
   "version": "3.12.4"
  }
 },
 "nbformat": 4,
 "nbformat_minor": 4
}
