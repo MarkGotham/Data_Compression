{
 "cells": [
  {
   "cell_type": "markdown",
   "metadata": {},
   "source": [
    "# Workspace for Data Compression Tasks, Block 9\n",
    "## Imports"
   ]
  },
  {
   "cell_type": "code",
   "execution_count": null,
   "metadata": {},
   "outputs": [],
   "source": [
    "import matplotlib.pyplot as plt\n",
    "import numpy as np\n",
    "import pandas as pd"
   ]
  },
  {
   "cell_type": "code",
   "execution_count": null,
   "metadata": {},
   "outputs": [],
   "source": [
    "from implementations import audio"
   ]
  },
  {
   "cell_type": "markdown",
   "metadata": {},
   "source": [
    "## Task\n",
    "\n",
    "- plot the Bark data\n",
    "- plot Bark modelling function given by\n",
    "    - `audio.<schroeder>`,\n",
    "    - `audio.<terhardt>`,\n",
    "    - `audio.<zwicker>`,\n",
    "    - `audio.<traunmuller>`,\n",
    "    - (with thanks to A. Lerch (see the repo)."
   ]
  },
  {
   "cell_type": "code",
   "execution_count": null,
   "metadata": {},
   "outputs": [],
   "source": [
    "bark_data = audio.bark_data"
   ]
  },
  {
   "cell_type": "code",
   "execution_count": null,
   "metadata": {},
   "outputs": [],
   "source": []
  },
  {
   "cell_type": "markdown",
   "metadata": {},
   "source": [
    "## Experimentation\n",
    "\n",
    "- Remember creating signals and using ipython's `Audio` functionality to hear them back (block 2)?\n",
    "- Now we'll do that, alongside noise, and combine them.\n",
    "- Play around with the frequency and amplitude of the signal, and with the \"amount\" of noise"
   ]
  },
  {
   "cell_type": "code",
   "execution_count": null,
   "metadata": {},
   "outputs": [],
   "source": [
    "from IPython.display import Audio"
   ]
  },
  {
   "cell_type": "code",
   "execution_count": null,
   "metadata": {},
   "outputs": [],
   "source": [
    "import numpy as np\n",
    "sr = 22050 # sample rate\n",
    "# sr *= 8\n",
    "T = 1.0    # seconds\n",
    "hz = 220\n",
    "time_array = np.linspace(0, T, int(T * sr))"
   ]
  },
  {
   "cell_type": "code",
   "execution_count": null,
   "metadata": {},
   "outputs": [],
   "source": [
    "# One tone alone\n",
    "amp = 1/2\n",
    "multiplier = 1/2\n",
    "one_tone = amp * np.sin(2 * np.pi * multiplier * hz * time_array)\n",
    "Audio(one_tone, rate=sr)"
   ]
  },
  {
   "cell_type": "code",
   "execution_count": null,
   "metadata": {
    "scrolled": true
   },
   "outputs": [],
   "source": [
    "# Noise alone\n",
    "noise = np.random.normal(0, 1, int(T * sr))\n",
    "Audio(noise, rate=sr)"
   ]
  },
  {
   "cell_type": "code",
   "execution_count": null,
   "metadata": {},
   "outputs": [],
   "source": [
    "# Signal and Noise\n",
    "Audio(one_tone + (noise), rate=sr)"
   ]
  },
  {
   "cell_type": "code",
   "execution_count": null,
   "metadata": {},
   "outputs": [],
   "source": [
    "# Composite signal\n",
    "from implementations import composite_signal\n",
    "comp = composite_signal.composite_signal(\n",
    "    time_array,\n",
    "    overtone_magnitude_dict = composite_signal.fundamental_w_partials(multiples = range(1, 50))\n",
    ")\n",
    "Audio(comp, rate=sr)"
   ]
  },
  {
   "cell_type": "markdown",
   "metadata": {},
   "source": [
    "Bonus:\n",
    "- Adapt the sample rate for the signal and noise and check if you can hear the difference\n",
    "- compute the spectral flatness (`audio.spectral_flatness()`) of each signal\n",
    "    - geometric / arithmetic mean of the Fourier of the signal"
   ]
  },
  {
   "cell_type": "code",
   "execution_count": null,
   "metadata": {},
   "outputs": [],
   "source": [
    "audio.spectral_flatness(one_tone).round(4)"
   ]
  },
  {
   "cell_type": "code",
   "execution_count": null,
   "metadata": {},
   "outputs": [],
   "source": [
    "audio.spectral_flatness(comp).round(4)"
   ]
  },
  {
   "cell_type": "code",
   "execution_count": null,
   "metadata": {},
   "outputs": [],
   "source": [
    "audio.spectral_flatness(noise).round(4)"
   ]
  },
  {
   "cell_type": "markdown",
   "metadata": {},
   "source": [
    "## Task\n",
    "\n",
    "- Explore the above (creating signals and noise)\n",
    "- Note your limits (when do you stop hearing the signal?).\n",
    "- (Think about or) Write a function that models whether you expect to hear it.\n",
    "- See how well your function matches your experience."
   ]
  },
  {
   "cell_type": "markdown",
   "metadata": {},
   "source": [
    "## Reference"
   ]
  },
  {
   "cell_type": "code",
   "execution_count": null,
   "metadata": {},
   "outputs": [],
   "source": [
    "audio.plot_bark()"
   ]
  },
  {
   "cell_type": "code",
   "execution_count": null,
   "metadata": {},
   "outputs": [],
   "source": [
    "audio.plot_bark_models()"
   ]
  },
  {
   "cell_type": "code",
   "execution_count": null,
   "metadata": {},
   "outputs": [],
   "source": [
    "audio.plot_hearing_threshold()"
   ]
  }
 ],
 "metadata": {
  "colab": {
   "provenance": []
  },
  "kernelspec": {
   "display_name": "Python 3 (ipykernel)",
   "language": "python",
   "name": "python3"
  },
  "language_info": {
   "codemirror_mode": {
    "name": "ipython",
    "version": 3
   },
   "file_extension": ".py",
   "mimetype": "text/x-python",
   "name": "python",
   "nbconvert_exporter": "python",
   "pygments_lexer": "ipython3",
   "version": "3.10.9"
  }
 },
 "nbformat": 4,
 "nbformat_minor": 1
}
