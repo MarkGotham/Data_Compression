{
 "cells": [
  {
   "cell_type": "markdown",
   "metadata": {},
   "source": [
    "# Workspace for Data Compression Tasks"
   ]
  },
  {
   "cell_type": "code",
   "execution_count": null,
   "metadata": {},
   "outputs": [],
   "source": [
    "import matplotlib.pyplot as plt\n",
    "import numpy as np\n",
    "import pandas as pd"
   ]
  },
  {
   "cell_type": "code",
   "execution_count": 2,
   "metadata": {},
   "outputs": [
    {
     "data": {
      "text/markdown": [
       "## Background\n",
       "\n",
       "Cones detect colour in the visible range using three different pigments \n",
       "specialising in different wavelengths\n",
       "called \"short\", \"medium\" and \"long\" (SML),\n",
       "and corresponding broadly to the colours we know as \"red\", \"green\", and \"blue\" (RGB).\n",
       "\n",
       "| SML | Full   | Approx. peak ($λ$, nm) | Approx. colour |\n",
       "|-----|--------|------------------------|----------------|\n",
       "| S   | Short  | 560                    | Red            |\n",
       "| L   | Long   | 530                    | Green          |\n",
       "| M   | Medium | 420                    | Blue           |\n",
       "\n",
       "\n",
       "## Task\n",
       "\n",
       "1. Type: Model\n",
       "    - Task: Plot approximate Gaussian curves for the SML cone cells, with the peak values given and a σ of 20 nm. \n",
       "    - Reference implementation: `rgb_theory.plot_resp()`\n",
       "2. Type: Model data \n",
       "   - Task:\n",
       "     - Retrieve data for RGB sensitivity. For example, the `./linss2_10e_1.csv` file\n",
       "     provided has cone sensitivity data from [Stockman & Sharpe (2000)](http://cvrl.ucl.ac.uk/cones.htm):\n",
       "       - Source: Stockman & Sharpe (2000)\n",
       "         - “Description: 2-deg fundamentals based on the Stiles Burch 10-deg CMFs (adjusted to 2-deg)” \n",
       "         - Units: Energy (linear)\n",
       "         - Stepsize: 1nm \n",
       "     - Plot curves for the RGB/SML cone cells from this data \n",
       "   - Reference implementation: `rgb_data.plot_rgb_csv()`\n"
      ],
      "text/plain": [
       "<IPython.core.display.Markdown object>"
      ]
     },
     "execution_count": 2,
     "metadata": {},
     "output_type": "execute_result"
    }
   ],
   "source": [
    "from IPython.display import Markdown\n",
    "Markdown(\"./tasks/rgb.md\")"
   ]
  },
  {
   "cell_type": "markdown",
   "metadata": {},
   "source": [
    "## Workspace"
   ]
  },
  {
   "cell_type": "code",
   "execution_count": null,
   "metadata": {},
   "outputs": [],
   "source": []
  },
  {
   "cell_type": "markdown",
   "metadata": {},
   "source": [
    "## Reference"
   ]
  },
  {
   "cell_type": "code",
   "execution_count": 4,
   "metadata": {},
   "outputs": [
    {
     "data": {
      "text/markdown": [
       "- Reference implementations are provided in this repo.\n",
       "- The cells below show how to access implementations relevant to this session.\n",
       "\n",
       "How to use?\n",
       "- Try the task yourself in the workspace above, and then import the reference to compare answers.\n",
       "- If you're struggling, find the function named here in the source repo. to compare the approach."
      ],
      "text/plain": [
       "<IPython.core.display.Markdown object>"
      ]
     },
     "execution_count": 4,
     "metadata": {},
     "output_type": "execute_result"
    }
   ],
   "source": [
    "Markdown(\"./tasks/reference.md\")  # Load the reference text"
   ]
  },
  {
   "cell_type": "code",
   "execution_count": null,
   "metadata": {
    "scrolled": true
   },
   "outputs": [],
   "source": [
    "from implementations import rgb_data, rgb_theory"
   ]
  },
  {
   "cell_type": "code",
   "execution_count": null,
   "metadata": {},
   "outputs": [],
   "source": [
    "rgb_theory.plot_resp(reference_lines=True)"
   ]
  },
  {
   "cell_type": "code",
   "execution_count": null,
   "metadata": {},
   "outputs": [],
   "source": [
    "rgb_data.plot_rgb_csv()"
   ]
  }
 ],
 "metadata": {
  "colab": {
   "provenance": []
  },
  "kernelspec": {
   "display_name": "Python 3 (ipykernel)",
   "language": "python",
   "name": "python3"
  },
  "language_info": {
   "codemirror_mode": {
    "name": "ipython",
    "version": 3
   },
   "file_extension": ".py",
   "mimetype": "text/x-python",
   "name": "python",
   "nbconvert_exporter": "python",
   "pygments_lexer": "ipython3",
   "version": "3.12.4"
  }
 },
 "nbformat": 4,
 "nbformat_minor": 4
}
