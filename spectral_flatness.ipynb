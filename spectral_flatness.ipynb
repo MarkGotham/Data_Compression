{
 "cells": [
  {
   "cell_type": "markdown",
   "metadata": {},
   "source": [
    "# Workspace for Data Compression Tasks\n",
    "[Click here for the source repository](https://github.com/MarkGotham/Data_Compression)"
   ]
  },
  {
   "cell_type": "code",
   "execution_count": null,
   "metadata": {},
   "outputs": [],
   "source": [
    "import matplotlib.pyplot as plt\n",
    "import numpy as np\n",
    "import pandas as pd"
   ]
  },
  {
   "cell_type": "code",
   "execution_count": 1,
   "metadata": {},
   "outputs": [
    {
     "data": {
      "text/markdown": [
       "## Background\n",
       "\n",
       "As we've seen, periodic signals can be expressed simply in terms of their period.\n",
       "Noise is more complex as it is 'spread' across frequency range\n",
       "(the full range in the case of 'white noise').\n",
       "\n",
       "\n",
       "## Spectral Flatness\n",
       "\n",
       "We can measure this relative periodicity in terms of a signal's 'flatness':\n",
       "the _less_ noisy the signal,\n",
       "the _lower_ the signal's 'flatness' measure,\n",
       "the _more_ redundancy,\n",
       "and the _more_ there is to compress.\n",
       "Random data (e.g., white noise)\n",
       "is maximally flat (high flatness value, minimum redundancy);\n",
       "a sine wave is minimally flat (low flatness value, maximum redundancy).\n",
       "\n",
       "We compute this\n",
       "by first taking the \n",
       "Power Spectral Density (PSD), which is the \n",
       "absolute value of the Fast Fourier Transform (FFT) squared.\n",
       "The spectral flatness then is given by the \n",
       "geometric mean of the PSD\n",
       "divided by the arithmetic mean of the same.\n",
       "\n",
       "More formally, flatness is given by\n",
       "$$\n",
       "{\\frac {\\exp \\left({\\frac {1}{N}}\\sum _{n=0}^{N-1}\\ln x(n)\\right)}{{\\frac {1}{N}}\\sum _{n=0}^{N-1}x(n)}}.\n",
       "$$\n",
       "\n",
       "\n",
       "## Task\n",
       "\n",
       "- Type: Implement\n",
       "- Task: Implement the spectral flatness.\n",
       "- Bonus: Use your function to compare a periodic signal, a noisy signal and the combination of the two.\n",
       "- Reference implementation:\n",
       "  - `audio.spectral_flatness()`\n"
      ],
      "text/plain": [
       "<IPython.core.display.Markdown object>"
      ]
     },
     "execution_count": 1,
     "metadata": {},
     "output_type": "execute_result"
    }
   ],
   "source": [
    "from IPython.display import Markdown\n",
    "Markdown(\"./tasks/spectral_flatness.md\")"
   ]
  },
  {
   "cell_type": "markdown",
   "metadata": {},
   "source": [
    "## Set up"
   ]
  },
  {
   "cell_type": "code",
   "execution_count": null,
   "metadata": {},
   "outputs": [],
   "source": [
    "# Signal\n",
    "import numpy as np\n",
    "sr = 22050 # sample rate\n",
    "# sr *= 8\n",
    "T = 1.0    # seconds\n",
    "hz = 220\n",
    "signal = np.linspace(0, T, int(T * sr))"
   ]
  },
  {
   "cell_type": "code",
   "execution_count": null,
   "metadata": {
    "scrolled": true
   },
   "outputs": [],
   "source": [
    "# Noise alone\n",
    "noise = np.random.normal(0, 1, int(T * sr))"
   ]
  },
  {
   "cell_type": "code",
   "execution_count": null,
   "metadata": {},
   "outputs": [],
   "source": [
    "combined = signal + noise"
   ]
  },
  {
   "cell_type": "markdown",
   "metadata": {},
   "source": [
    "## Workspace"
   ]
  },
  {
   "cell_type": "code",
   "execution_count": null,
   "metadata": {},
   "outputs": [],
   "source": []
  },
  {
   "cell_type": "code",
   "execution_count": null,
   "metadata": {},
   "outputs": [],
   "source": []
  },
  {
   "cell_type": "code",
   "execution_count": null,
   "metadata": {},
   "outputs": [],
   "source": []
  },
  {
   "cell_type": "markdown",
   "metadata": {},
   "source": [
    "## Reference"
   ]
  },
  {
   "cell_type": "code",
   "execution_count": 3,
   "metadata": {},
   "outputs": [
    {
     "data": {
      "text/markdown": [
       "- Reference implementations are provided in this repo.\n",
       "- The cells below show how to access implementations relevant to this session.\n",
       "\n",
       "How to use?\n",
       "- Try the task yourself in the workspace above, and then import the reference to compare answers.\n",
       "- If you're struggling, find the function named here in the source repo. to compare the approach."
      ],
      "text/plain": [
       "<IPython.core.display.Markdown object>"
      ]
     },
     "execution_count": 3,
     "metadata": {},
     "output_type": "execute_result"
    }
   ],
   "source": [
    "Markdown(\"./tasks/reference.md\")"
   ]
  },
  {
   "cell_type": "code",
   "execution_count": null,
   "metadata": {},
   "outputs": [],
   "source": [
    "from implementations import audio"
   ]
  },
  {
   "cell_type": "code",
   "execution_count": null,
   "metadata": {},
   "outputs": [],
   "source": [
    "audio.spectral_flatness(signal).round(4)"
   ]
  },
  {
   "cell_type": "code",
   "execution_count": null,
   "metadata": {},
   "outputs": [],
   "source": [
    "audio.spectral_flatness(noise).round(4)"
   ]
  },
  {
   "cell_type": "code",
   "execution_count": null,
   "metadata": {},
   "outputs": [],
   "source": [
    "audio.spectral_flatness(combined).round(4)"
   ]
  }
 ],
 "metadata": {
  "colab": {
   "provenance": []
  },
  "kernelspec": {
   "display_name": "Python 3 (ipykernel)",
   "language": "python",
   "name": "python3"
  },
  "language_info": {
   "codemirror_mode": {
    "name": "ipython",
    "version": 3
   },
   "file_extension": ".py",
   "mimetype": "text/x-python",
   "name": "python",
   "nbconvert_exporter": "python",
   "pygments_lexer": "ipython3",
   "version": "3.12.4"
  }
 },
 "nbformat": 4,
 "nbformat_minor": 4
}
