{
 "cells": [
  {
   "cell_type": "markdown",
   "metadata": {},
   "source": [
    "# Workspace for Data Compression Tasks"
   ]
  },
  {
   "cell_type": "code",
   "execution_count": 1,
   "metadata": {},
   "outputs": [
    {
     "data": {
      "text/markdown": [
       "## Background\n",
       "\n",
       "There are several python libraries for scene change detection.\n",
       "This notebook demonstrates a basic, 'off-the-shelf' use of the `scenedetect` library.\n",
       "\n",
       "Installation:\n",
       "-`pip install scenedetect`\n",
       "- and you'll also need `pip install opencv-python` if you don't have it already.\n",
       "\n",
       "The notebook also assumes you have the whole repository \n",
       "or at least the `dummy_video.mp4` located at `/tasks/dummy_video.mp4` relative to this notebook.\n",
       "\n",
       "\n",
       "## Task\n",
       "\n",
       "- Type: Explore\n",
       "- Task: Import and explore `scikit-image` and/or another one of above libraries for handling images.\n",
       "- Bonus: Explore other videos to test this system in more complex settings.\n"
      ],
      "text/plain": [
       "<IPython.core.display.Markdown object>"
      ]
     },
     "execution_count": 1,
     "metadata": {},
     "output_type": "execute_result"
    }
   ],
   "source": [
    "from IPython.display import Markdown\n",
    "Markdown(\"./tasks/explore_scene_detect.md\")"
   ]
  },
  {
   "cell_type": "markdown",
   "metadata": {},
   "source": [
    "## Reference"
   ]
  },
  {
   "cell_type": "code",
   "execution_count": 4,
   "metadata": {},
   "outputs": [],
   "source": [
    "import os\n",
    "this_dir = os.path.abspath('')  # NB no __file__ in ipynb.\n",
    "video_file_path = this_dir + \"/tasks/dummy_video.mp4\"\n",
    "# video_file_path  # uncomment and run to check it's what you expect"
   ]
  },
  {
   "cell_type": "code",
   "execution_count": 6,
   "metadata": {},
   "outputs": [
    {
     "data": {
      "text/plain": [
       "[(00:00:00.000 [frame=0, fps=30.293], 00:00:01.023 [frame=31, fps=30.293]),\n",
       " (00:00:01.023 [frame=31, fps=30.293], 00:00:02.047 [frame=62, fps=30.293]),\n",
       " (00:00:02.047 [frame=62, fps=30.293], 00:00:03.070 [frame=93, fps=30.293])]"
      ]
     },
     "execution_count": 6,
     "metadata": {},
     "output_type": "execute_result"
    }
   ],
   "source": [
    "from scenedetect import detect, AdaptiveDetector, split_video_ffmpeg\n",
    "scene_list = detect(video_file_path, AdaptiveDetector())\n",
    "scene_list"
   ]
  }
 ],
 "metadata": {
  "colab": {
   "provenance": []
  },
  "kernelspec": {
   "display_name": "Python 3 (ipykernel)",
   "language": "python",
   "name": "python3"
  },
  "language_info": {
   "codemirror_mode": {
    "name": "ipython",
    "version": 3
   },
   "file_extension": ".py",
   "mimetype": "text/x-python",
   "name": "python",
   "nbconvert_exporter": "python",
   "pygments_lexer": "ipython3",
   "version": "3.12.4"
  }
 },
 "nbformat": 4,
 "nbformat_minor": 4
}
