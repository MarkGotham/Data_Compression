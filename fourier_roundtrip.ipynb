{
 "cells": [
  {
   "cell_type": "markdown",
   "metadata": {},
   "source": [
    "# Workspace for Data Compression Tasks\n",
    "[Click here for the source repository](https://github.com/MarkGotham/Data_Compression)"
   ]
  },
  {
   "cell_type": "code",
   "execution_count": 2,
   "metadata": {},
   "outputs": [
    {
     "data": {
      "text/markdown": [
       "## Background\n",
       "\n",
       "For data compression to be effective,\n",
       "we need to 'encode' the data to a small representation size \n",
       "and then 'decode' it back to the original (or nearly).\n",
       "\n",
       "A classic way to test the effectiveness of a system like this is to run a \n",
       "'roundtrip' where you compare the data you star with to what comes back from an encoding-decoding cycle. \n",
       "\n",
       "\n",
       "## Task\n",
       "\n",
       "- Type: Implement roundtrip\n",
       "- Task:\n",
       "  - Import or create some synthetic data, like an 8x8 array with a continuous tone pattern.\n",
       "  - Import an algorithm for the fourier transform (e.g., `import scipy.fft as fft`) \n",
       "    - (Bonus: code it from scratch)\n",
       "  - Take the source data, run the fft on that source, and then the inverse fft on the fft output.\n",
       "  - Compare the final data with the original.\n",
       "- Reference implementation in the notebook: `test_roundtrip()`\n",
       "\n",
       "\n",
       "## Also on this repository\n",
       "\n",
       "The [`jpeg` notebook](https://github.com/MarkGotham/Data_Compression/blob/main/jpeg.ipynb)\n",
       "runs a similar roundtrip, with the following differences:\n",
       "- the additional consideration of quantization,\n",
       "- the use of DCT,\n",
       "- additional abstraction (local implementations on the repo).\n"
      ],
      "text/plain": [
       "<IPython.core.display.Markdown object>"
      ]
     },
     "execution_count": 2,
     "metadata": {},
     "output_type": "execute_result"
    }
   ],
   "source": [
    "from IPython.display import Markdown\n",
    "Markdown(\"./tasks/fourier_roundtrip.md\")  # Load the task text"
   ]
  },
  {
   "cell_type": "markdown",
   "metadata": {},
   "source": [
    "## Workspace"
   ]
  },
  {
   "cell_type": "code",
   "execution_count": null,
   "metadata": {},
   "outputs": [],
   "source": []
  },
  {
   "cell_type": "code",
   "execution_count": null,
   "metadata": {},
   "outputs": [],
   "source": []
  },
  {
   "cell_type": "code",
   "execution_count": null,
   "metadata": {},
   "outputs": [],
   "source": []
  },
  {
   "cell_type": "markdown",
   "metadata": {},
   "source": [
    "## Reference"
   ]
  },
  {
   "cell_type": "code",
   "execution_count": null,
   "metadata": {},
   "outputs": [],
   "source": [
    "import matplotlib.pyplot as plt\n",
    "import numpy as np\n",
    "import scipy.fft as fft"
   ]
  },
  {
   "cell_type": "markdown",
   "metadata": {},
   "source": [
    "First, let's create an 8-by-8 matrix,\n",
    "and fill it with a continuous tone pattern.\n",
    "\n",
    "Don't worry about the code,\n",
    "the image will show the resulting pattern."
   ]
  },
  {
   "cell_type": "code",
   "execution_count": null,
   "metadata": {},
   "outputs": [],
   "source": [
    "continuous_tone_pattern = np.zeros((8,8))        "
   ]
  },
  {
   "cell_type": "code",
   "execution_count": null,
   "metadata": {},
   "outputs": [],
   "source": [
    "continuous_tone_pattern"
   ]
  },
  {
   "cell_type": "code",
   "execution_count": null,
   "metadata": {},
   "outputs": [],
   "source": [
    "for m in range(continuous_tone_pattern.shape[0]):\n",
    "    for n in range(continuous_tone_pattern.shape[1]):\n",
    "        continuous_tone_pattern[m][n] = abs(3.5 - m) * abs(3.5 - n) * 20"
   ]
  },
  {
   "cell_type": "code",
   "execution_count": null,
   "metadata": {},
   "outputs": [],
   "source": [
    "continuous_tone_pattern"
   ]
  },
  {
   "cell_type": "code",
   "execution_count": null,
   "metadata": {},
   "outputs": [],
   "source": [
    "plt.imshow(continuous_tone_pattern)\n",
    "plt.show()"
   ]
  },
  {
   "cell_type": "markdown",
   "metadata": {},
   "source": [
    "Now perform the DCT function ..."
   ]
  },
  {
   "cell_type": "code",
   "execution_count": null,
   "metadata": {
    "scrolled": true
   },
   "outputs": [],
   "source": [
    "cont_dct = fft.dctn(continuous_tone_pattern, norm=\"ortho\")\n",
    "cont_dct.round(3)"
   ]
  },
  {
   "cell_type": "markdown",
   "metadata": {},
   "source": [
    "... look at all those 0s! Lots of (opportunity for) compression here.\n",
    "\n",
    "... assuming we can get back to the original ...\n",
    "\n",
    "... So now we run the inverse to see how close it is"
   ]
  },
  {
   "cell_type": "code",
   "execution_count": null,
   "metadata": {},
   "outputs": [],
   "source": [
    "inverse = fft.idctn(cont_dct, norm=\"ortho\").round(2)\n",
    "inverse"
   ]
  },
  {
   "cell_type": "markdown",
   "metadata": {},
   "source": [
    "Does this array look familiar? Let's check ... "
   ]
  },
  {
   "cell_type": "code",
   "execution_count": null,
   "metadata": {},
   "outputs": [],
   "source": [
    "def test_roundtrip(\n",
    "        a: np.array\n",
    ") -> np.array:\n",
    "    \"\"\"\n",
    "    Implements a roundtrip test on a 2-d array and \n",
    "    returns the value and position of the largest divergence.\n",
    "    I.e.,\n",
    "    - Take an array (a),\n",
    "    - run DCT,\n",
    "    - quant (to nearest integer in this case),\n",
    "    - run IDCT,\n",
    "    - compare change on each item (abs diff in this case).\n",
    "    \"\"\"\n",
    "    dct_round = fft.dctn(a, norm=\"ortho\").round(0)\n",
    "    idct_v = fft.idctn(dct_round, norm=\"ortho\")\n",
    "    m, n = a.shape\n",
    "    assert m > 1\n",
    "    assert n > 1\n",
    "    max_diff = 0\n",
    "    diff_ref = None\n",
    "    for i in range(m):\n",
    "        for j in range(n):\n",
    "            this_diff = abs(a[i][j] - idct_v[i][j])\n",
    "            if this_diff > max_diff:\n",
    "                max_diff = this_diff\n",
    "                diff_ref = (i, j)\n",
    "\n",
    "    return round(max_diff, 2), diff_ref"
   ]
  },
  {
   "cell_type": "code",
   "execution_count": null,
   "metadata": {},
   "outputs": [],
   "source": [
    "test_roundtrip(continuous_tone_pattern)"
   ]
  },
  {
   "cell_type": "markdown",
   "metadata": {},
   "source": [
    "This (above ^^^) is the maximum difference of any pixel in the 8-by-8 array along with its position in the array.\n",
    "\n",
    "And here is that value as a percentage ..."
   ]
  },
  {
   "cell_type": "code",
   "execution_count": null,
   "metadata": {},
   "outputs": [],
   "source": [
    "val, idx = test_roundtrip(inverse)\n",
    "\n",
    "round(100 * val / continuous_tone_pattern[idx[0], idx[1]], 2)"
   ]
  }
 ],
 "metadata": {
  "colab": {
   "provenance": []
  },
  "kernelspec": {
   "display_name": "Python 3 (ipykernel)",
   "language": "python",
   "name": "python3"
  },
  "language_info": {
   "codemirror_mode": {
    "name": "ipython",
    "version": 3
   },
   "file_extension": ".py",
   "mimetype": "text/x-python",
   "name": "python",
   "nbconvert_exporter": "python",
   "pygments_lexer": "ipython3",
   "version": "3.12.4"
  }
 },
 "nbformat": 4,
 "nbformat_minor": 4
}
