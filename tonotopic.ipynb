{
 "cells": [
  {
   "cell_type": "markdown",
   "metadata": {},
   "source": [
    "# Workspace for Data Compression Tasks"
   ]
  },
  {
   "cell_type": "code",
   "execution_count": null,
   "metadata": {},
   "outputs": [],
   "source": [
    "import matplotlib.pyplot as plt\n",
    "import numpy as np\n",
    "import pandas as pd"
   ]
  },
  {
   "cell_type": "code",
   "execution_count": 2,
   "metadata": {},
   "outputs": [
    {
     "data": {
      "text/markdown": [
       "## Background\n",
       "\n",
       "When the basilar membrane converts pressure waves into electric signals,\n",
       "it is effectively ‘reading’ the frequencies of those waves.\n",
       "Different frequencies register as different positions along the basilar membrane.\n",
       "\n",
       "More specifically:\n",
       "- The sound frequency (`f`) is approximately inversely proportional to the log of the length (`x`) along the basilar membrane (total length `L`) as measured from the entrance of the sound into the ear. I.e.,\n",
       "- higher frequencies correspond to shorter distances (cf. wavelengths) and are detected nearer the base of the membrane (i.e., the ‘start’ as sound travel in from the outer ear)\n",
       "- likewise, vice versa, lower frequencies are detected further along the membrane, nearer the apex (i.e., the other end, though recall that it wraps around, so ‘further along’ is not quite the same as ‘further in’).\n",
       "\n",
       "As frequency sensitivity is location-specific on the basilar membrane, it is said to be 'tonotopic'.\n",
       "\n",
       "\n",
       "## Task\n",
       "\n",
       "- Type: Implement\n",
       "- Task: Make a function approximating the relationship between $f$, $x$, and $L$ such that:\n",
       "  - the total length $L = 30mm$, \n",
       "  - linear positive steps in the length ($x$) equate to log descent in ($f$), connecting (0,20000)\n",
       "  via (10,2000), and (20,200) to (30,20).\n",
       "- Reference implementation: `tonotopic.plot_tonotopic()`\n"
      ],
      "text/plain": [
       "<IPython.core.display.Markdown object>"
      ]
     },
     "execution_count": 2,
     "metadata": {},
     "output_type": "execute_result"
    }
   ],
   "source": [
    "from IPython.display import Markdown\n",
    "task_file = \"./tasks/tonotopic.md\"\n",
    "Markdown(task_file)"
   ]
  },
  {
   "cell_type": "markdown",
   "metadata": {},
   "source": [
    "## Workspace"
   ]
  },
  {
   "cell_type": "code",
   "execution_count": null,
   "metadata": {},
   "outputs": [],
   "source": []
  },
  {
   "cell_type": "markdown",
   "metadata": {},
   "source": [
    "## Reference"
   ]
  },
  {
   "cell_type": "code",
   "execution_count": 4,
   "metadata": {},
   "outputs": [
    {
     "data": {
      "text/markdown": [
       "- Reference implementations are provided in this repo.\n",
       "- The cells below show how to access implementations relevant to this session.\n",
       "\n",
       "How to use?\n",
       "- Try the task yourself in the workspace above, and then import the reference to compare answers.\n",
       "- If you're struggling, find the function named here in the source repo. to compare the approach."
      ],
      "text/plain": [
       "<IPython.core.display.Markdown object>"
      ]
     },
     "execution_count": 4,
     "metadata": {},
     "output_type": "execute_result"
    }
   ],
   "source": [
    "Markdown(\"./tasks/reference.md\")  # Load the reference text"
   ]
  },
  {
   "cell_type": "code",
   "execution_count": null,
   "metadata": {
    "scrolled": true
   },
   "outputs": [],
   "source": [
    "from implementations import tonotopic"
   ]
  },
  {
   "cell_type": "code",
   "execution_count": null,
   "metadata": {},
   "outputs": [],
   "source": [
    "tonotopic.plot_tonotopic()"
   ]
  }
 ],
 "metadata": {
  "colab": {
   "provenance": []
  },
  "kernelspec": {
   "display_name": "Python 3 (ipykernel)",
   "language": "python",
   "name": "python3"
  },
  "language_info": {
   "codemirror_mode": {
    "name": "ipython",
    "version": 3
   },
   "file_extension": ".py",
   "mimetype": "text/x-python",
   "name": "python",
   "nbconvert_exporter": "python",
   "pygments_lexer": "ipython3",
   "version": "3.12.4"
  }
 },
 "nbformat": 4,
 "nbformat_minor": 4
}
