{
 "cells": [
  {
   "cell_type": "markdown",
   "metadata": {},
   "source": [
    "# Workspace for Data Compression Tasks"
   ]
  },
  {
   "cell_type": "code",
   "execution_count": null,
   "metadata": {},
   "outputs": [],
   "source": [
    "import numpy as np"
   ]
  },
  {
   "cell_type": "code",
   "execution_count": 2,
   "metadata": {},
   "outputs": [
    {
     "data": {
      "text/markdown": [
       "## Background\n",
       "\n",
       "JPEG 2000 uses two wavelets:\n",
       "- The LeGall-Tabatabai 5/3 (LGT 5/3) for _lossless_ compression and\n",
       "- The Cohen–Daubechies–Feauveau 9/7 (CDF 9/7) wavelet for _lossy_ compression:\n",
       "\n",
       "For these, we denote a row of extended pixels in a tile by $P(k), P(k+1), \\dots , P(m)$.\n",
       "Since the pixels have been extended, index values below $k$ and above $m$ can be used.\n",
       "\n",
       "## LGT 5/3\n",
       "\n",
       "The LGT 5/3 transform computes wavelet coefficients $C(i)$ in two successive steps:\n",
       "\n",
       "$$\n",
       "\\begin{alignat*}{4}\n",
       "    C(2i + 1) &= P(2i + 1) - \\left\\lfloor \\frac{P(2i) + P(2i + 2)}{2} \\right\\rfloor &\\quad& k - 1 \\le 2i + 1 < m+ 1 &\\quad& \\text{step 1}\\\\\n",
       "    C(2i) &= P(2i) + \\left\\lfloor \\frac{ C(2i - 1) + C(2i + 1) + 2 }{4} \\right\\rfloor &\\quad&  k \\le 2i < m+ 1 &\\quad& \\text{step 2}.\n",
       "\\end{alignat*}\n",
       "$$\n",
       "\n",
       "## CDF 9/7\n",
       "\n",
       "The CDF 9/7 wavelet transform involves six steps:\n",
       "$$\n",
       "\\begin{alignat*}{4}\n",
       "C(2i + 1) &= P(2i + 1) +  \\alpha [P(2i) + P(2i + 2)], &\\quad & k-3 \\le 2i+1 < m+3 & \\quad& \\text{step 1}\\\\\n",
       "C(2i) &= P(2i) + \\beta[C(2i - 1) + C(2i + 1)], &\\quad& k-2 \\le 2i < m+2 &\\quad& \\text{step 2}\\\\\n",
       "C(2i + 1) &= C(2i + 1) + \\gamma[C(2i) + C(2i + 2)], &\\quad& k-1 \\le 2i+1 < m+1 &\\quad& \\text{step 3}\\\\\n",
       "C(2i) &= C(2i) + \\delta[C(2i - 1) + C(2i + 1)], &\\quad& k \\le 2i < m &\\quad& \\text{step 4}\\\\\n",
       "C(2i + 1) &= -K C(2i + 1), &\\quad& k \\le 2i + 1 < m &\\quad& \\text{step 5}\\\\\n",
       "C(2i) &=  \\frac{1}{K} C(2i), &\\quad& k \\le 2i < m &\\quad& \\text{step 6}\n",
       "\\end{alignat*}\n",
       "$$\n",
       "\n",
       "For CDF 9/7, the five constants (wavelet filter coefficients) used by JPEG 2000 are:\n",
       "- $\\alpha = -1.586134342$,\n",
       "- $\\beta = -0.052980118$, \n",
       "- $\\gamma = 0.882911075$, \n",
       "- $\\delta = 0.443506852$, and \n",
       "- $K = 1.230174105$.\n",
       "\n",
       "Note the 2-step iterators for odd vs even steps in both cases.\n",
       "\n",
       "\n",
       "## Task\n",
       "\n",
       "- Type: Implement\n",
       "- Task:\n",
       "    Implement the\n",
       "    LeGall-Tabatabai 5/3 (LGT 5/3) and\n",
       "    The Cohen–Daubechies–Feauveau 9/7 (CDF 9/7) \n",
       "    processes set out above.\n",
       "- Reference implementation:\n",
       "    `jpeg2000.lgt_5_3`\n",
       "    and\n",
       "    `jpeg2000.cdf_9_7`\n"
      ],
      "text/plain": [
       "<IPython.core.display.Markdown object>"
      ]
     },
     "execution_count": 2,
     "metadata": {},
     "output_type": "execute_result"
    }
   ],
   "source": [
    "from IPython.display import Markdown\n",
    "Markdown(\"./tasks/jpeg2000.md\")"
   ]
  },
  {
   "cell_type": "markdown",
   "metadata": {},
   "source": [
    "## Workspace"
   ]
  },
  {
   "cell_type": "code",
   "execution_count": null,
   "metadata": {},
   "outputs": [],
   "source": []
  },
  {
   "cell_type": "markdown",
   "metadata": {},
   "source": [
    "## Reference"
   ]
  },
  {
   "cell_type": "code",
   "execution_count": 4,
   "metadata": {},
   "outputs": [
    {
     "data": {
      "text/markdown": [
       "- Reference implementations are provided in this repo.\n",
       "- The cells below show how to access implementations relevant to this session.\n",
       "\n",
       "How to use?\n",
       "- Try the task yourself in the workspace above, and then import the reference to compare answers.\n",
       "- If you're struggling, find the function named here in the source repo. to compare the approach."
      ],
      "text/plain": [
       "<IPython.core.display.Markdown object>"
      ]
     },
     "execution_count": 4,
     "metadata": {},
     "output_type": "execute_result"
    }
   ],
   "source": [
    "Markdown(\"./tasks/reference.md\")"
   ]
  },
  {
   "cell_type": "code",
   "execution_count": null,
   "metadata": {},
   "outputs": [],
   "source": []
  }
 ],
 "metadata": {
  "colab": {
   "provenance": []
  },
  "kernelspec": {
   "display_name": "Python 3 (ipykernel)",
   "language": "python",
   "name": "python3"
  },
  "language_info": {
   "codemirror_mode": {
    "name": "ipython",
    "version": 3
   },
   "file_extension": ".py",
   "mimetype": "text/x-python",
   "name": "python",
   "nbconvert_exporter": "python",
   "pygments_lexer": "ipython3",
   "version": "3.12.4"
  }
 },
 "nbformat": 4,
 "nbformat_minor": 4
}
