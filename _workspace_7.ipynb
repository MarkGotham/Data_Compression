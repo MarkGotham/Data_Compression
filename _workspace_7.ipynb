{
 "cells": [
  {
   "cell_type": "markdown",
   "metadata": {},
   "source": [
    "# Workspace for Data Compression Tasks, Block 7\n",
    "## Imports"
   ]
  },
  {
   "cell_type": "code",
   "execution_count": null,
   "metadata": {},
   "outputs": [],
   "source": [
    "import numpy as np\n",
    "import skimage as ski  # optional"
   ]
  },
  {
   "cell_type": "markdown",
   "metadata": {},
   "source": [
    "## Workspace"
   ]
  },
  {
   "cell_type": "code",
   "execution_count": null,
   "metadata": {},
   "outputs": [],
   "source": []
  },
  {
   "cell_type": "markdown",
   "metadata": {},
   "source": [
    "## Reference\n",
    "\n",
    "- Reference implementations are provided in this repo.\n",
    "- Below is demonstration of the import structure for accessing these for relevant topics in block 3.\n",
    "\n",
    "How to use?\n",
    "- Try the task yourself, and then import the reference to compare notes.\n",
    "- If you're struggling, try to formulate the problem clearly, and find the relevant line in the source."
   ]
  },
  {
   "cell_type": "code",
   "execution_count": null,
   "metadata": {},
   "outputs": [],
   "source": [
    "from implementations import video"
   ]
  },
  {
   "cell_type": "code",
   "execution_count": null,
   "metadata": {},
   "outputs": [],
   "source": [
    "# Distortion\n",
    "frame_1 = np.array([[0, 1], [2, 3]])\n",
    "frame_2 = np.array([[0, 1], [2, 4]])\n",
    "video.mean_abs_diff(frame_1, frame_2)"
   ]
  },
  {
   "cell_type": "code",
   "execution_count": null,
   "metadata": {},
   "outputs": [],
   "source": [
    "# Block search\n",
    "ref, comp = video.make_test_array_block()\n",
    "video.block_search(ref, comp, (1, 1), (3, 3), (1, 1))"
   ]
  },
  {
   "cell_type": "code",
   "execution_count": null,
   "metadata": {},
   "outputs": [],
   "source": [
    "# Two-dimensional logarithmic search\n",
    "video.logarithmic_search_2d_demo()"
   ]
  },
  {
   "cell_type": "markdown",
   "metadata": {},
   "source": [
    "## Make a fake frame pair with `scikit-image`\n",
    "\n",
    "Take an image, move it, check the most direct parallel."
   ]
  },
  {
   "cell_type": "code",
   "execution_count": null,
   "metadata": {},
   "outputs": [],
   "source": [
    "camera = ski.data.camera()\n",
    "ski.io.imshow(camera)\n",
    "ski.io.show()"
   ]
  },
  {
   "cell_type": "markdown",
   "metadata": {},
   "source": [
    "Move the frame by a pixel (or more) and compare."
   ]
  },
  {
   "cell_type": "code",
   "execution_count": null,
   "metadata": {},
   "outputs": [],
   "source": [
    "new_row = np.zeros(512)\n",
    "camera_shift = np.vstack([new_row, camera])\n",
    "camera_shift = np.delete(camera_shift, (-1), axis=0)"
   ]
  },
  {
   "cell_type": "code",
   "execution_count": null,
   "metadata": {},
   "outputs": [],
   "source": [
    "video.block_search(\n",
    "    camera,  # original\n",
    "    camera_shift,  # shifted\n",
    "    (10, 10),  # The top-left position of the reference block\n",
    "    (16, 16),  # The height and width of the reference block\n",
    "    (5, 5)  # maximum displacement parameters\n",
    ")"
   ]
  },
  {
   "cell_type": "markdown",
   "metadata": {},
   "source": [
    "So we:\n",
    "- started at (10, 10)\n",
    "- spotted the shift of (+1, 0)\n",
    "- ended at (11, 10)\n",
    "\n",
    "QED."
   ]
  },
  {
   "cell_type": "markdown",
   "metadata": {},
   "source": []
  }
 ],
 "metadata": {
  "colab": {
   "provenance": []
  },
  "kernelspec": {
   "display_name": "Python 3 (ipykernel)",
   "language": "python",
   "name": "python3"
  },
  "language_info": {
   "codemirror_mode": {
    "name": "ipython",
    "version": 3
   },
   "file_extension": ".py",
   "mimetype": "text/x-python",
   "name": "python",
   "nbconvert_exporter": "python",
   "pygments_lexer": "ipython3",
   "version": "3.10.9"
  }
 },
 "nbformat": 4,
 "nbformat_minor": 1
}
