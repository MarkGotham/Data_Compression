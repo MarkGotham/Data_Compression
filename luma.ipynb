{
 "cells": [
  {
   "cell_type": "markdown",
   "metadata": {},
   "source": [
    "# Workspace for Data Compression Tasks"
   ]
  },
  {
   "cell_type": "code",
   "execution_count": null,
   "metadata": {},
   "outputs": [],
   "source": [
    "import matplotlib.pyplot as plt\n",
    "import numpy as np\n",
    "import pandas as pd"
   ]
  },
  {
   "cell_type": "code",
   "execution_count": 1,
   "metadata": {},
   "outputs": [
    {
     "data": {
      "text/markdown": [
       "## Background\n",
       "\n",
       "Much image data is encoded with the ‘RGB colour model’ which measures the presence of the three colours \n",
       "red, green and blue (hence RGB) in a light source.\n",
       "\n",
       "Compression formats like JPEG use 'transform coding'\n",
       "part of which involves\n",
       "a 'colour space transformation',\n",
       "converting images from RGB into a different colour space called $Y'$$C_B$$C_R$. (a.k.a., 'YCbCr').\n",
       "\n",
       "This has three components:\n",
       "- The $Y$ component represents the 'brightness' of a pixel\n",
       "- $C_B$, & $C_R$ represent the 'chrominance' (split into blue and red components).\n",
       "\n",
       "If $R$, $G$, and $B$, are the red, green and blue signals,\n",
       "each with a value between 0 and 1, then our the components of our new colour space are defined by\n",
       "\n",
       "$$\n",
       "\\begin{align*}\n",
       "    Y' &= K_R R + K_G G + K_B B,\\\\\n",
       "    C_B &= \\frac {1}{2} \\frac {B-Y'}{1-K_B},\\\\\n",
       "    C_R &=\\frac {1}{2} \\frac {R-Y'}{1-K_R},\n",
       "\\end{align*}\n",
       "$$\n",
       "where $K_R$, $K_G$, and $K_B$ are constants that satisfy $K_R + K_G +K_B = 1$.\n",
       "For instance, \n",
       "$$\n",
       "\\begin{align*}\n",
       "    K_R &= 0.299,\\\\\n",
       "    K_G &= 0.587,\\\\\n",
       "    K_B &=0.114.\n",
       "\\end{align*}\n",
       "$$\n",
       "\n",
       "## Task\n",
       "\n",
       "- Type: Implementation\n",
       "- Task: Implement $Y'$, $C_B$, \\& $C_R$ using the constants given as default arguments.\n",
       "- Reference implementation:\n",
       "    `luma.brightness`,\n",
       "    `luma.c_b`,\n",
       "    `luma.c_r`\n"
      ],
      "text/plain": [
       "<IPython.core.display.Markdown object>"
      ]
     },
     "execution_count": 1,
     "metadata": {},
     "output_type": "execute_result"
    }
   ],
   "source": [
    "from IPython.display import Markdown\n",
    "Markdown(\"./tasks/luma.md\")  # Load the task text"
   ]
  },
  {
   "cell_type": "markdown",
   "metadata": {},
   "source": [
    "## Workspace"
   ]
  },
  {
   "cell_type": "code",
   "execution_count": null,
   "metadata": {},
   "outputs": [],
   "source": []
  },
  {
   "cell_type": "code",
   "execution_count": null,
   "metadata": {},
   "outputs": [],
   "source": []
  },
  {
   "cell_type": "code",
   "execution_count": null,
   "metadata": {},
   "outputs": [],
   "source": []
  },
  {
   "cell_type": "markdown",
   "metadata": {},
   "source": [
    "## Reference"
   ]
  },
  {
   "cell_type": "code",
   "execution_count": null,
   "metadata": {
    "scrolled": true
   },
   "outputs": [],
   "source": [
    "from IPython.display import Markdown"
   ]
  },
  {
   "cell_type": "code",
   "execution_count": null,
   "metadata": {},
   "outputs": [],
   "source": [
    "Markdown(\"./tasks/reference.md\")  # Load the reference text"
   ]
  },
  {
   "cell_type": "code",
   "execution_count": null,
   "metadata": {},
   "outputs": [],
   "source": [
    "from implementations import luma"
   ]
  },
  {
   "cell_type": "code",
   "execution_count": null,
   "metadata": {},
   "outputs": [],
   "source": []
  }
 ],
 "metadata": {
  "colab": {
   "provenance": []
  },
  "kernelspec": {
   "display_name": "Python 3 (ipykernel)",
   "language": "python",
   "name": "python3"
  },
  "language_info": {
   "codemirror_mode": {
    "name": "ipython",
    "version": 3
   },
   "file_extension": ".py",
   "mimetype": "text/x-python",
   "name": "python",
   "nbconvert_exporter": "python",
   "pygments_lexer": "ipython3",
   "version": "3.12.4"
  }
 },
 "nbformat": 4,
 "nbformat_minor": 4
}
