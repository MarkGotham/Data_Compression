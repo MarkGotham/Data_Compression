{
 "cells": [
  {
   "cell_type": "markdown",
   "metadata": {},
   "source": [
    "# Workspace for Data Compression Tasks\n",
    "[Click here for the source repository](https://github.com/MarkGotham/Data_Compression)"
   ]
  },
  {
   "cell_type": "code",
   "execution_count": 2,
   "metadata": {},
   "outputs": [
    {
     "data": {
      "text/markdown": [
       "## Background\n",
       "\n",
       "Companding is a portmanteau word combining 'compressing' and 'expanding'.\n",
       "It uses the fact that the ear requires\n",
       "more precise samples at low amplitudes (soft sounds)\n",
       "and less at higher amplitudes.\n",
       "\n",
       "\n",
       "## Linear, then Non-Linear\n",
       "\n",
       "Analog-to-Digital converters often map a sound sound to encoding linearly.\n",
       "If an amplitude $a$ is converted to the number $n$,\n",
       "then amplitude $2a$ will be converted to the number $2n$.\n",
       "\n",
       "Then the companding part is non-linear,\n",
       "mapping the sample not only \n",
       "- from a larger to a smaller space (fewer bits)\n",
       "- but doing this reduction in a way that mirrors human perception.\n",
       "\n",
       "\n",
       "## $\\mu$-law\n",
       "\n",
       "Two main, standarised companding techniques are the **$\\mu$-law** and the **$A$-law**.\n",
       "The rationale is the same: you can afford to accuracy for some signals more than others.\n",
       "How that accuracy is reduced is slightly different.\n",
       "Here, we set out the $\\mu$-law.\n",
       "\n",
       "First, the sgn (signum) function maps all positive numbers to 1, all negative to -1 and 0 stays as 0:\n",
       "\n",
       "$$\n",
       "{sgn}(x) = {\\begin{cases}-1&{\\text{if }}x<0,\\\\0&{\\text{if }}x=0,\\\\1&{\\text{if }}x>0.\\end{cases}}\n",
       "$$\n",
       "\n",
       "Then the $\\mu$-law encodes a sample value $x$ as follows::  \n",
       "\n",
       "$$\n",
       "F(x) = {sgn}(x){\\dfrac {\\ln(1+\\mu |x|)}{\\ln(1+\\mu )}},\\quad -1\\leq x\\leq 1\n",
       "$$\n",
       "\n",
       "\n",
       "## Task\n",
       "\n",
       "- Type:\n",
       "    Implement.\n",
       "- Task:\n",
       "  - Implement the $\\mu$-law function.\n",
       "    - Either with $sgn$ separately or within the function\n",
       "    - Accept as arguments the input and output bit number or max/min of the range.\n",
       "- Bonus: plot the function and consider the shape in relation to unequal emphasis on high vs low amplitudes.\n",
       "- Reference implementation:\n",
       "  - `audio.mu_law_encode`\n",
       "  - `audio.plot_mu`"
      ],
      "text/plain": [
       "<IPython.core.display.Markdown object>"
      ]
     },
     "execution_count": 2,
     "metadata": {},
     "output_type": "execute_result"
    }
   ],
   "source": [
    "from IPython.display import Markdown\n",
    "Markdown(\"./tasks/companding.md\")"
   ]
  },
  {
   "cell_type": "markdown",
   "metadata": {},
   "source": [
    "## Workspace"
   ]
  },
  {
   "cell_type": "code",
   "execution_count": null,
   "metadata": {},
   "outputs": [],
   "source": []
  },
  {
   "cell_type": "code",
   "execution_count": null,
   "metadata": {},
   "outputs": [],
   "source": []
  },
  {
   "cell_type": "code",
   "execution_count": null,
   "metadata": {},
   "outputs": [],
   "source": []
  },
  {
   "cell_type": "markdown",
   "metadata": {},
   "source": [
    "## Reference"
   ]
  },
  {
   "cell_type": "code",
   "execution_count": 4,
   "metadata": {},
   "outputs": [
    {
     "data": {
      "text/markdown": [
       "- Reference implementations are provided in this repo.\n",
       "- The cells below show how to access implementations relevant to this session.\n",
       "\n",
       "How to use?\n",
       "- Try the task yourself in the workspace above, and then import the reference to compare answers.\n",
       "- If you're struggling, find the function named here in the source repo. to compare the approach."
      ],
      "text/plain": [
       "<IPython.core.display.Markdown object>"
      ]
     },
     "execution_count": 4,
     "metadata": {},
     "output_type": "execute_result"
    }
   ],
   "source": [
    "Markdown(\"./tasks/reference.md\")"
   ]
  },
  {
   "cell_type": "code",
   "execution_count": null,
   "metadata": {},
   "outputs": [],
   "source": [
    "from implementations import companding"
   ]
  },
  {
   "cell_type": "code",
   "execution_count": null,
   "metadata": {},
   "outputs": [],
   "source": [
    "companding.plot_mu()"
   ]
  },
  {
   "cell_type": "code",
   "execution_count": null,
   "metadata": {},
   "outputs": [],
   "source": []
  }
 ],
 "metadata": {
  "colab": {
   "provenance": []
  },
  "kernelspec": {
   "display_name": "Python 3 (ipykernel)",
   "language": "python",
   "name": "python3"
  },
  "language_info": {
   "codemirror_mode": {
    "name": "ipython",
    "version": 3
   },
   "file_extension": ".py",
   "mimetype": "text/x-python",
   "name": "python",
   "nbconvert_exporter": "python",
   "pygments_lexer": "ipython3",
   "version": "3.12.4"
  }
 },
 "nbformat": 4,
 "nbformat_minor": 4
}
