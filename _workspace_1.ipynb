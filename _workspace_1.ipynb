{
 "cells": [
  {
   "cell_type": "markdown",
   "metadata": {},
   "source": [
    "# Workspace for Data Compression Tasks, Block 1\n",
    "## Imports"
   ]
  },
  {
   "cell_type": "code",
   "execution_count": null,
   "metadata": {},
   "outputs": [],
   "source": [
    "import matplotlib.pyplot as plt\n",
    "import numpy as np\n",
    "import pandas as pd"
   ]
  },
  {
   "cell_type": "markdown",
   "metadata": {},
   "source": [
    "## Workspace"
   ]
  },
  {
   "cell_type": "code",
   "execution_count": null,
   "metadata": {},
   "outputs": [],
   "source": []
  },
  {
   "cell_type": "markdown",
   "metadata": {},
   "source": [
    "## Reference\n",
    "\n",
    "- Reference implementations are provided in this repo.\n",
    "- Below is demonstration of the import structure for accessing these for the topics in session 1.\n",
    "\n",
    "How to use?\n",
    "- Try the task yourself, and then import the reference to compare notes.\n",
    "- If you're struggling, try to formulate the problem clearly, and find the relevant line in the source."
   ]
  },
  {
   "cell_type": "code",
   "execution_count": null,
   "metadata": {
    "scrolled": true
   },
   "outputs": [],
   "source": [
    "# Imports\n",
    "\n",
    "# 1: Sound\n",
    "from implementations import wavelen_vel_freq, tonotopic\n",
    "\n",
    "# 1: Sight\n",
    "from implementations import rgb_data, rgb_theory"
   ]
  },
  {
   "cell_type": "code",
   "execution_count": null,
   "metadata": {},
   "outputs": [],
   "source": [
    "# 1: Sound\n",
    "# wavelen_vel_freq.plot_wavelength()\n",
    "# tonotopic.plot_tonotopic()\n",
    "# wavelen_vel_freq.plot_wavelength(reference_lines=True)\n",
    "\n",
    "# 1: Sight\n",
    "# rgb_theory.plot_resp(reference_lines=True)\n",
    "# rgb_data.plot_rgb_csv()"
   ]
  }
 ],
 "metadata": {
  "colab": {
   "provenance": []
  },
  "kernelspec": {
   "display_name": "Python 3 (ipykernel)",
   "language": "python",
   "name": "python3"
  },
  "language_info": {
   "codemirror_mode": {
    "name": "ipython",
    "version": 3
   },
   "file_extension": ".py",
   "mimetype": "text/x-python",
   "name": "python",
   "nbconvert_exporter": "python",
   "pygments_lexer": "ipython3",
   "version": "3.10.9"
  }
 },
 "nbformat": 4,
 "nbformat_minor": 1
}
