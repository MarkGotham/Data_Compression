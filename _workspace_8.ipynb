{
 "cells": [
  {
   "cell_type": "markdown",
   "metadata": {},
   "source": [
    "# Workspace for Data Compression Tasks, Block 8\n",
    "## Imports"
   ]
  },
  {
   "cell_type": "code",
   "execution_count": null,
   "metadata": {},
   "outputs": [],
   "source": [
    "import numpy as np\n",
    "import skimage as ski  # optional\n",
    "from implementations import luma, video"
   ]
  },
  {
   "cell_type": "markdown",
   "metadata": {},
   "source": [
    "## Workspace\n",
    "\n",
    "Basic:\n",
    "- For any (fake) 16x16 RGB array,\n",
    "- Return luminance values (16x16)\n",
    "- ... and two 8×8 blocks of chrominance samples (sampling every other value).\n",
    "\n",
    "Bonus:\n",
    "- Use `ski.data.astronaut`\n",
    "- Do several/all contiguous 16x16 \"macro blocks\"\n",
    "- Calculate differences between the luma arrays\n",
    "\n",
    "Hint:\n",
    "- Use your implementation for `luma` from session 3\n",
    "- ... and `diff` from session 7 (ref `video`)."
   ]
  },
  {
   "cell_type": "code",
   "execution_count": null,
   "metadata": {},
   "outputs": [],
   "source": []
  },
  {
   "cell_type": "markdown",
   "metadata": {},
   "source": [
    "## Reference\n",
    "\n"
   ]
  },
  {
   "cell_type": "code",
   "execution_count": null,
   "metadata": {},
   "outputs": [],
   "source": [
    "img = ski.data.astronaut()"
   ]
  },
  {
   "cell_type": "code",
   "execution_count": null,
   "metadata": {},
   "outputs": [],
   "source": [
    "ski.io.imshow(img)\n",
    "ski.io.show()"
   ]
  },
  {
   "cell_type": "markdown",
   "metadata": {},
   "source": [
    "Compare the corners (rather different) and two neighouring blocks around (0, 100)"
   ]
  },
  {
   "cell_type": "code",
   "execution_count": null,
   "metadata": {},
   "outputs": [],
   "source": [
    "tl = img[0:16, 0:16]\n",
    "ref = 6 * 16\n",
    "bg_1 = img[0:16, ref:ref+16]\n",
    "bg_2 = img[0:16, ref+16:ref+32]\n",
    "br = img[-16:, -16:]"
   ]
  },
  {
   "cell_type": "code",
   "execution_count": null,
   "metadata": {},
   "outputs": [],
   "source": [
    "arrays_1 = luma.mb_to_luma_cb_cr(tl, luma_only=True)\n",
    "arrays_2 = luma.mb_to_luma_cb_cr(bg_1, luma_only=True)\n",
    "arrays_3 = luma.mb_to_luma_cb_cr(bg_2, luma_only=True)\n",
    "arrays_4 = luma.mb_to_luma_cb_cr(br, luma_only=True)"
   ]
  },
  {
   "cell_type": "code",
   "execution_count": null,
   "metadata": {},
   "outputs": [],
   "source": [
    "corner_comparison = video.distortion_measure(\n",
    "    np.array(arrays_1),\n",
    "    np.array(arrays_4)\n",
    ")"
   ]
  },
  {
   "cell_type": "code",
   "execution_count": null,
   "metadata": {},
   "outputs": [],
   "source": [
    "corner_comparison"
   ]
  },
  {
   "cell_type": "code",
   "execution_count": null,
   "metadata": {},
   "outputs": [],
   "source": [
    "neighbour_comparison = video.distortion_measure(\n",
    "    np.array(arrays_2),\n",
    "    np.array(arrays_3)\n",
    ")"
   ]
  },
  {
   "cell_type": "code",
   "execution_count": null,
   "metadata": {},
   "outputs": [],
   "source": [
    "neighbour_comparison"
   ]
  },
  {
   "cell_type": "code",
   "execution_count": null,
   "metadata": {},
   "outputs": [],
   "source": [
    "corner_comparison / neighbour_comparison"
   ]
  }
 ],
 "metadata": {
  "colab": {
   "provenance": []
  },
  "kernelspec": {
   "display_name": "Python 3 (ipykernel)",
   "language": "python",
   "name": "python3"
  },
  "language_info": {
   "codemirror_mode": {
    "name": "ipython",
    "version": 3
   },
   "file_extension": ".py",
   "mimetype": "text/x-python",
   "name": "python",
   "nbconvert_exporter": "python",
   "pygments_lexer": "ipython3",
   "version": "3.10.9"
  }
 },
 "nbformat": 4,
 "nbformat_minor": 1
}
