{
 "cells": [
  {
   "cell_type": "markdown",
   "metadata": {},
   "source": [
    "# Workspace for Data Compression Tasks\n",
    "[Click here for the source repository](https://github.com/MarkGotham/Data_Compression)"
   ]
  },
  {
   "cell_type": "code",
   "execution_count": null,
   "metadata": {},
   "outputs": [],
   "source": [
    "import matplotlib.pyplot as plt\n",
    "import numpy as np\n",
    "import scipy.fft as fft"
   ]
  },
  {
   "cell_type": "code",
   "execution_count": 2,
   "metadata": {},
   "outputs": [
    {
     "data": {
      "text/markdown": [
       "## Background\n",
       "\n",
       "The JPEG compression routine includes the following steps:\n",
       "1. split images of any size into 8x8 size block\n",
       "2. subtract 128 from each value,\n",
       "3. implement and apply the DCT (see 'DCT' below) \n",
       "4. 'quantize' using the 'uniform midtread quantization' (see 'Quantization' below)\n",
       "5. Encode the DC coefficient (position (0, 0)) and the AC coefficients using Huffman coding. \n",
       "\n",
       "\n",
       "### DCT\n",
       "\n",
       "The discrete cosine transform (DCT) is a variant of the discrete Fourier transform (DFT) that only takes the cosines.\n",
       "So, we're still in the business of expressing a complex signal in terms of periodic components,\n",
       "here a sum of cosine functions.\n",
       "\n",
       "\n",
       "### Quantization\n",
       "\n",
       "In this context, 'Quantization' involves taking each value in an 8x8 matrix and:\n",
       "- dividing by the corresponding value in the reference matrix, such as the one given as **Q** below.\n",
       "- rounding to the nearest integer using 'midtread' mapping (`int(x + 0.5)`, see `matrix_basics.midtread`).\n",
       "\n",
       "$$\n",
       "{\\bf Q} = \\begin{pmatrix}\n",
       "16 & 11 & 10 & 16 & 24 & 40 & 51 & 61\\\\\n",
       "12 & 12 & 14 & 19 & 26 & 58 & 60 & 55\\\\\n",
       "14 & 13 & 16 & 24 & 40 & 57 & 69 & 56\\\\\n",
       "14 & 17 & 22 & 29 & 51 & 87 & 80 & 62\\\\\n",
       "18 & 22 & 37 & 56 & 68 & 109 & 103 & 77\\\\\n",
       "24 & 35 & 55 & 64 & 81 & 104 & 113 & 92\\\\\n",
       "49 & 64 & 78 & 87 & 103 & 121 & 120 & 101\\\\\n",
       "72 & 92 & 95 & 98 & 112 & 100 & 103 & 99\n",
       "\\end{pmatrix}\n",
       "$$\n",
       "\n",
       "The reconstruction involves the same process in reverse, now multiplying rather than dividing.\n",
       "\n",
       "\n",
       "## Task\n",
       "\n",
       "- Type: Implement\n",
       "- Task: Implement the quantization and reconstruction processes described in steps 3–4 above (and 1-2 if you like).\n",
       "- Reference implementation:\n",
       "  - Sample values are given `jpeg.continuous_tone_pattern`, or use your own\n",
       "  - for DCT: local implementation at `jpeg.dct` and/or remote in [scipy](https://docs.scipy.org/doc/scipy/reference/generated/scipy.fftpack.dct.html)\n",
       "    - Bonus: create from scratch.\n",
       "  - for quantization and reconstruction: `matrix_basics.quantize()` including arguments for:\n",
       "    - `reconstruct` (bool)\n",
       "    - the quantization table to use (with **Q** above as default: `matrix_basics.quantization_table`)\n",
       "  - for DCT, create (bonus) or use `jpeg.dct_matrix` and/or [scipy](https://docs.scipy.org/doc/scipy/reference/generated/scipy.fftpack.dct.html)\n",
       "\n",
       "\n",
       "## Also on this repository\n",
       "\n",
       "The [`fourier_rountrip` notebook](https://github.com/MarkGotham/Data_Compression/blob/main/fourier_roundtrip.ipynb)\n",
       "runs a similar roundtrip, with the following differences:\n",
       "- no consideration of quantization,\n",
       "- standard Fourier (not DCT),\n",
       "- no recourse to local implementations on the repo (useful in case of set up issues).\n",
       "\n"
      ],
      "text/plain": [
       "<IPython.core.display.Markdown object>"
      ]
     },
     "execution_count": 2,
     "metadata": {},
     "output_type": "execute_result"
    }
   ],
   "source": [
    "from IPython.display import Markdown\n",
    "Markdown(\"./tasks/jpeg.md\")  # Load the task text"
   ]
  },
  {
   "cell_type": "markdown",
   "metadata": {},
   "source": [
    "## Workspace"
   ]
  },
  {
   "cell_type": "code",
   "execution_count": null,
   "metadata": {},
   "outputs": [],
   "source": []
  },
  {
   "cell_type": "code",
   "execution_count": null,
   "metadata": {},
   "outputs": [],
   "source": []
  },
  {
   "cell_type": "code",
   "execution_count": null,
   "metadata": {},
   "outputs": [],
   "source": []
  },
  {
   "cell_type": "markdown",
   "metadata": {},
   "source": [
    "## Reference"
   ]
  },
  {
   "cell_type": "code",
   "execution_count": 4,
   "metadata": {},
   "outputs": [
    {
     "data": {
      "text/markdown": [
       "- Reference implementations are provided in this repo.\n",
       "- The cells below show how to access implementations relevant to this session.\n",
       "\n",
       "How to use?\n",
       "- Try the task yourself in the workspace above, and then import the reference to compare answers.\n",
       "- If you're struggling, find the function named here in the source repo. to compare the approach."
      ],
      "text/plain": [
       "<IPython.core.display.Markdown object>"
      ]
     },
     "execution_count": 4,
     "metadata": {},
     "output_type": "execute_result"
    }
   ],
   "source": [
    "Markdown(\"./tasks/reference.md\")  # Load the task text"
   ]
  },
  {
   "cell_type": "code",
   "execution_count": null,
   "metadata": {},
   "outputs": [],
   "source": [
    "from implementations import matrix_basics, jpeg"
   ]
  },
  {
   "cell_type": "code",
   "execution_count": null,
   "metadata": {},
   "outputs": [],
   "source": [
    "a = jpeg.continuous_tone_pattern\n",
    "a"
   ]
  },
  {
   "cell_type": "markdown",
   "metadata": {},
   "source": [
    "Show what this array looks like."
   ]
  },
  {
   "cell_type": "code",
   "execution_count": null,
   "metadata": {
    "scrolled": true
   },
   "outputs": [],
   "source": [
    "# Optionally: test_to_show = a / a.max()\n",
    "plt.imshow(a, cmap='gray')\n",
    "plt.show()"
   ]
  },
  {
   "cell_type": "code",
   "execution_count": null,
   "metadata": {},
   "outputs": [],
   "source": [
    "# Local implementation:\n",
    "dct_round = jpeg.dct_2d(a)  # create\n",
    "dct_round.round(2)  # display with rounding"
   ]
  },
  {
   "cell_type": "code",
   "execution_count": null,
   "metadata": {},
   "outputs": [],
   "source": [
    "# Remote (scipy):\n",
    "dct_round_remote = fft.dctn(jpeg.continuous_tone_pattern, norm=\"ortho\")\n",
    "dct_round_remote.round(2)"
   ]
  },
  {
   "cell_type": "code",
   "execution_count": null,
   "metadata": {},
   "outputs": [],
   "source": [
    "dct_quant = matrix_basics.quantize(dct_round)\n",
    "dct_quant"
   ]
  },
  {
   "cell_type": "code",
   "execution_count": null,
   "metadata": {},
   "outputs": [],
   "source": [
    "dct_unquant = matrix_basics.quantize(dct_quant, reconstruct=True)\n",
    "dct_unquant"
   ]
  },
  {
   "cell_type": "code",
   "execution_count": null,
   "metadata": {},
   "outputs": [],
   "source": [
    "idct_v = fft.idctn(dct_unquant, norm=\"ortho\")\n",
    "idct_v.round(0)"
   ]
  },
  {
   "cell_type": "code",
   "execution_count": null,
   "metadata": {},
   "outputs": [],
   "source": [
    "plt.imshow(idct_v, cmap='gray')\n",
    "plt.show()"
   ]
  },
  {
   "cell_type": "code",
   "execution_count": null,
   "metadata": {},
   "outputs": [],
   "source": [
    "jpeg.test_roundtrip(jpeg.continuous_tone_pattern)"
   ]
  },
  {
   "cell_type": "code",
   "execution_count": null,
   "metadata": {},
   "outputs": [],
   "source": [
    "matrix_basics.max_diff_val_and_location(a, idct_v)"
   ]
  }
 ],
 "metadata": {
  "colab": {
   "provenance": []
  },
  "kernelspec": {
   "display_name": "Python 3 (ipykernel)",
   "language": "python",
   "name": "python3"
  },
  "language_info": {
   "codemirror_mode": {
    "name": "ipython",
    "version": 3
   },
   "file_extension": ".py",
   "mimetype": "text/x-python",
   "name": "python",
   "nbconvert_exporter": "python",
   "pygments_lexer": "ipython3",
   "version": "3.12.4"
  }
 },
 "nbformat": 4,
 "nbformat_minor": 4
}
