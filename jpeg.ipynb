{
 "cells": [
  {
   "cell_type": "markdown",
   "metadata": {},
   "source": [
    "# Workspace for Data Compression Tasks"
   ]
  },
  {
   "cell_type": "code",
   "execution_count": null,
   "metadata": {},
   "outputs": [],
   "source": [
    "import matplotlib.pyplot as plt\n",
    "import numpy as np\n",
    "import pandas as pd\n",
    "import scipy.fft as fft"
   ]
  },
  {
   "cell_type": "code",
   "execution_count": 2,
   "metadata": {},
   "outputs": [
    {
     "data": {
      "text/markdown": [
       "## Background\n",
       "\n",
       "The JPEG compression routine includes the following steps:\n",
       "- split images of any size into 8x8 size block\n",
       "- subtract 128 from each value,\n",
       "- implement and apply the DCT (a variant of the DFT that only takes the cosines),\n",
       "- 'quantize' using the 'uniform midtread quantization' where each value in the 8x8 matrix is:\n",
       "  - divided by the corresponding value in the reference matrix given as **Q** below.\n",
       "  - rounded each value to the nearest integer using midtread.\n",
       "\n",
       "$$\n",
       "{\\bf Q} = \\begin{pmatrix}\n",
       "16 & 11 & 10 & 16 & 24 & 40 & 51 & 61\\\\\n",
       "12 & 12 & 14 & 19 & 26 & 58 & 60 & 55\\\\\n",
       "14 & 13 & 16 & 24 & 40 & 57 & 69 & 56\\\\\n",
       "14 & 17 & 22 & 29 & 51 & 87 & 80 & 62\\\\\n",
       "18 & 22 & 37 & 56 & 68 & 109 & 103 & 77\\\\\n",
       "24 & 35 & 55 & 64 & 81 & 104 & 113 & 92\\\\\n",
       "49 & 64 & 78 & 87 & 103 & 121 & 120 & 101\\\\\n",
       "72 & 92 & 95 & 98 & 112 & 100 & 103 & 99\n",
       "\\end{pmatrix}\n",
       "$$\n",
       "\n",
       "The reconstruction involves the same process in reverse.\n",
       "\n",
       "\n",
       "## Task\n",
       "\n",
       "- Type: Implement\n",
       "- Task: Implement the quantization and reconstruction processes described above.\n",
       "- Reference implementation:\n",
       "  - quantize and reconstruct: `matrix_basics.quantize()` including arguments for:\n",
       "    - `reconstruct` (bool)\n",
       "    - the quantization table to use (with **Q** above as default: `matrix_basics.quantization_table`)\n",
       "  - Sample values are given `jpeg.continuous_tone_pattern`\n",
       "  - for DCT, create (bonus) or use `jpeg.dct_matrix` and/or [scipy](https://docs.scipy.org/doc/scipy/reference/generated/scipy.fftpack.dct.html)\n"
      ],
      "text/plain": [
       "<IPython.core.display.Markdown object>"
      ]
     },
     "execution_count": 2,
     "metadata": {},
     "output_type": "execute_result"
    }
   ],
   "source": [
    "from IPython.display import Markdown\n",
    "Markdown(\"./tasks/jpeg.md\")  # Load the task text"
   ]
  },
  {
   "cell_type": "markdown",
   "metadata": {},
   "source": [
    "## Workspace"
   ]
  },
  {
   "cell_type": "code",
   "execution_count": null,
   "metadata": {},
   "outputs": [],
   "source": []
  },
  {
   "cell_type": "code",
   "execution_count": null,
   "metadata": {},
   "outputs": [],
   "source": []
  },
  {
   "cell_type": "code",
   "execution_count": null,
   "metadata": {},
   "outputs": [],
   "source": []
  },
  {
   "cell_type": "markdown",
   "metadata": {},
   "source": [
    "## Reference"
   ]
  },
  {
   "cell_type": "code",
   "execution_count": null,
   "metadata": {},
   "outputs": [],
   "source": []
  },
  {
   "cell_type": "code",
   "execution_count": null,
   "metadata": {},
   "outputs": [],
   "source": [
    "from implementations import matrix_basics, jpeg"
   ]
  },
  {
   "cell_type": "code",
   "execution_count": null,
   "metadata": {},
   "outputs": [],
   "source": [
    "s = jpeg.signal_1d\n",
    "s"
   ]
  },
  {
   "cell_type": "code",
   "execution_count": null,
   "metadata": {
    "scrolled": true
   },
   "outputs": [],
   "source": [
    "jpeg.dct(s, scaling=True)"
   ]
  },
  {
   "cell_type": "code",
   "execution_count": null,
   "metadata": {},
   "outputs": [],
   "source": [
    "c = jpeg.continuous_tone_pattern\n",
    "c"
   ]
  },
  {
   "cell_type": "code",
   "execution_count": null,
   "metadata": {},
   "outputs": [],
   "source": [
    "jpeg.dct_2d(c)"
   ]
  }
 ],
 "metadata": {
  "colab": {
   "provenance": []
  },
  "kernelspec": {
   "display_name": "Python 3 (ipykernel)",
   "language": "python",
   "name": "python3"
  },
  "language_info": {
   "codemirror_mode": {
    "name": "ipython",
    "version": 3
   },
   "file_extension": ".py",
   "mimetype": "text/x-python",
   "name": "python",
   "nbconvert_exporter": "python",
   "pygments_lexer": "ipython3",
   "version": "3.12.4"
  }
 },
 "nbformat": 4,
 "nbformat_minor": 4
}
