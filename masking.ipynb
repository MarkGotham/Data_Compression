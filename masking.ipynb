{
 "cells": [
  {
   "cell_type": "markdown",
   "metadata": {},
   "source": [
    "# Workspace for Data Compression Tasks\n",
    "[Click here for the source repository](https://github.com/MarkGotham/Data_Compression)"
   ]
  },
  {
   "cell_type": "code",
   "execution_count": 2,
   "metadata": {},
   "outputs": [
    {
     "data": {
      "text/markdown": [
       "## Background\n",
       "\n",
       "Beyond the basics, there are some strange properties of auditory perception that are highly relevant to audio data compression.\n",
       "We can't cover every way of tricking the brain with sound,\n",
       "but one aspect of this topic we certainly must address is **auditory masking**.\n",
       "When a person wears a mask, their face cannot be seen.\n",
       "Auditory masking is an analogy to that for the case of sound: one sound ‘covers’ another so that it cannot be heard.\n",
       "\n",
       "As with most topics in human perception (auditory or otherwise) we are dealing with a relative rather than absolute effect:\n",
       "various factors affect whether one sound will mask another completely, partially, or not at all.\n",
       "Therefore, continuing with the visual analogy, perhaps we should talk not only of \n",
       "full masks (whole face) but also \n",
       "partial masks (part of the face) and indeed \n",
       "veils (full coverage, but partly see-through).\n",
       "\n",
       "Masking occurs because we have limited resolution in what we can perceive.\n",
       "This topic of auditory masking extends the discussion of critical bands in\n",
       "[`bark`](https://github.com/MarkGotham/Data_Compression/blob/main/bark.ipynb).\n",
       "Put another way,\n",
       "Bark discussed the basilar membrane's finite frequency resolution,\n",
       "and masking explores one effect of that.\n",
       "\n",
       "Are we still talking about data compression here?\n",
       "Yes!\n",
       "When a sound is masked, it is not audible and can be removed in a lossy compression algorithm.\n",
       "\n",
       "\n",
       "## Frequency Masking\n",
       "\n",
       "Frequency masking is usually discussed in terms of a \n",
       "**target signal** (primarily periodic) that we want to hear,\n",
       "and a **band of noise** (non periodic) that may or not mask the target.\n",
       "Think of having a conversation in a noisy environment, next to running water, or among many other conversations.\n",
       "\n",
       "Whether and to what extent the noise will mask the target signal varies as a function of the relative:\n",
       "1. amplitude. The louder the noise, the more likely it will mask the signal.\n",
       "2. frequency. Here, we need to know the value (or range for noise) of each in terms of:\n",
       "   - how close they are to one another. Masking is more likely for closer – especially overlapping – frequencies. \n",
       "   - which is higher/lower. Because of asymmetry in the auditory threshold function, the signal is more likely to be masked when it is higher than the noise.\n",
       "\n",
       "Fletcher (“Auditory Patterns”, Rev. Mod. Phys., 1940)\n",
       "offered perhaps the first model of absolute hearing threshold according.\n",
       "This model uses three component functions of frequency ($f$), summed together:\n",
       "\n",
       "$$\n",
       "3.64 * ((f / 1000)^{-0.8})\n",
       "+\n",
       "-6.5 * (e^{(-0.6 * (f / 1000 - 3.3)^{2})})\n",
       "+\n",
       "(10^{-3}) * ((f / 1000)^{4})\n",
       "$$\n",
       "\n",
       "## Temporal Masking\n",
       "\n",
       "Human hearing has a granularity not only in terms of frequency but also temporal sound perception.\n",
       "We can discriminate between sound events if they are more than c.30 milliseconds apart.\n",
       "Within that span average the energy during that short time window.\n",
       "Microphones do not work in that way.\n",
       "As such, this too is clear area of possible perception-inspired compression.\n",
       "\n",
       "\n",
       "## Task\n",
       " \n",
       "- Type: Implement\n",
       "- Task:\n",
       "    Implement an approximate model of frequency masking using Fletcher's equation.\n",
       "    - Inputs: a frequency-decibel pair.\n",
       "    - Return: bool for whether it will be audible (avoid masking).\n",
       "- Reference implementation: `audio.audible`, `audio.plot_hearing_threshold`.\n",
       "\n",
       "\n",
       "## Also on this repository\n",
       "\n",
       "This topic of auditory masking extends the discussion of critical bands in\n",
       "[`bark`](https://github.com/MarkGotham/Data_Compression/blob/main/bark.ipynb).\n"
      ],
      "text/plain": [
       "<IPython.core.display.Markdown object>"
      ]
     },
     "execution_count": 2,
     "metadata": {},
     "output_type": "execute_result"
    }
   ],
   "source": [
    "from IPython.display import Markdown\n",
    "Markdown(\"./tasks/masking.md\")"
   ]
  },
  {
   "cell_type": "markdown",
   "metadata": {},
   "source": [
    "## Workspace"
   ]
  },
  {
   "cell_type": "code",
   "execution_count": null,
   "metadata": {},
   "outputs": [],
   "source": []
  },
  {
   "cell_type": "code",
   "execution_count": null,
   "metadata": {},
   "outputs": [],
   "source": []
  },
  {
   "cell_type": "code",
   "execution_count": null,
   "metadata": {},
   "outputs": [],
   "source": []
  },
  {
   "cell_type": "markdown",
   "metadata": {},
   "source": [
    "## Reference"
   ]
  },
  {
   "cell_type": "code",
   "execution_count": 4,
   "metadata": {},
   "outputs": [
    {
     "data": {
      "text/markdown": [
       "- Reference implementations are provided in this repo.\n",
       "- The cells below show how to access implementations relevant to this session.\n",
       "\n",
       "How to use?\n",
       "- Try the task yourself in the workspace above, and then import the reference to compare answers.\n",
       "- If you're struggling, find the function named here in the source repo. to compare the approach."
      ],
      "text/plain": [
       "<IPython.core.display.Markdown object>"
      ]
     },
     "execution_count": 4,
     "metadata": {},
     "output_type": "execute_result"
    }
   ],
   "source": [
    "Markdown(\"./tasks/reference.md\")"
   ]
  },
  {
   "cell_type": "code",
   "execution_count": null,
   "metadata": {},
   "outputs": [],
   "source": [
    "from implementations import audio"
   ]
  },
  {
   "cell_type": "code",
   "execution_count": null,
   "metadata": {},
   "outputs": [],
   "source": [
    "audio.audible(500, 50)"
   ]
  },
  {
   "cell_type": "code",
   "execution_count": null,
   "metadata": {},
   "outputs": [],
   "source": [
    "audio.plot_hearing_threshold()"
   ]
  },
  {
   "cell_type": "code",
   "execution_count": null,
   "metadata": {},
   "outputs": [],
   "source": [
    "audio.plot_hearing_threshold(mask=False)"
   ]
  }
 ],
 "metadata": {
  "colab": {
   "provenance": []
  },
  "kernelspec": {
   "display_name": "Python 3 (ipykernel)",
   "language": "python",
   "name": "python3"
  },
  "language_info": {
   "codemirror_mode": {
    "name": "ipython",
    "version": 3
   },
   "file_extension": ".py",
   "mimetype": "text/x-python",
   "name": "python",
   "nbconvert_exporter": "python",
   "pygments_lexer": "ipython3",
   "version": "3.12.4"
  }
 },
 "nbformat": 4,
 "nbformat_minor": 4
}
