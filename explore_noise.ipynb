{
 "cells": [
  {
   "cell_type": "markdown",
   "metadata": {},
   "source": [
    "# Workspace for Data Compression Tasks\n",
    "[Click here for the source repository](https://github.com/MarkGotham/Data_Compression)"
   ]
  },
  {
   "cell_type": "code",
   "execution_count": 2,
   "metadata": {},
   "outputs": [
    {
     "data": {
      "text/markdown": [
       "## Background\n",
       "\n",
       "First [`composite`](https://github.com/MarkGotham/Data_Compression/blob/main/composite.ipynb)\n",
       "created a roundtrip with a composite signal and Fourier transform on it.\n",
       "Then [`masking`](https://github.com/MarkGotham/Data_Compression/blob/main/masking.ipynb)\n",
       "explored the effect of noise masking a sound in _theory_.\n",
       "This notebook provides a space for experimenting with combined sound and noise signals in _practice_.\n",
       "\n",
       "\n",
       "## Task\n",
       "\n",
       "- Type: Explore/experiment\n",
       "- Task:\n",
       "  - Play around with the frequency and amplitude of\n",
       "    - the periodic signal (and or composite signal),\n",
       "    - the noise (in which case, by filtering the frequency _range_)\n",
       "  - Note your limits: when do you stop hearing the signal?\n",
       "- Bonus tasks:\n",
       "  - Go to the `masking` functions and see how well they match your experience.\n",
       "  - Write a function to filter the noise, to clear the noise spectrum around a signal periodicity. \n",
       "  - Plot Fourier transforms of the white noise and the filtered noise to compare.\n"
      ],
      "text/plain": [
       "<IPython.core.display.Markdown object>"
      ]
     },
     "execution_count": 2,
     "metadata": {},
     "output_type": "execute_result"
    }
   ],
   "source": [
    "from IPython.display import Markdown\n",
    "Markdown(\"./tasks/explore_noise.md\")"
   ]
  },
  {
   "cell_type": "markdown",
   "metadata": {},
   "source": [
    "## Exploration Template"
   ]
  },
  {
   "cell_type": "code",
   "execution_count": null,
   "metadata": {},
   "outputs": [],
   "source": [
    "from IPython.display import Audio\n",
    "import numpy as np"
   ]
  },
  {
   "cell_type": "code",
   "execution_count": null,
   "metadata": {},
   "outputs": [],
   "source": [
    "import numpy as np\n",
    "sr = 22050 # sample rate\n",
    "# sr *= 8\n",
    "T = 1.0    # seconds\n",
    "hz = 440\n",
    "time_array = np.linspace(0, T, int(T * sr))"
   ]
  },
  {
   "cell_type": "markdown",
   "metadata": {},
   "source": [
    "### Signal"
   ]
  },
  {
   "cell_type": "code",
   "execution_count": null,
   "metadata": {},
   "outputs": [],
   "source": [
    "# One tone alone\n",
    "\n",
    "amp = 1/2\n",
    "multiplier = 1/2\n",
    "one_tone = amp * np.sin(2 * np.pi * multiplier * hz * time_array)\n",
    "Audio(one_tone, rate=sr)"
   ]
  },
  {
   "cell_type": "code",
   "execution_count": null,
   "metadata": {},
   "outputs": [],
   "source": [
    "# # Composite signal (optional)\n",
    "\n",
    "# from implementations import composite_signal\n",
    "# comp = composite_signal.composite_signal(\n",
    "#     time_array,\n",
    "#     overtone_magnitude_dict = composite_signal.fundamental_w_partials(multiples = range(1, 50))\n",
    "# )\n",
    "# Audio(comp, rate=sr)"
   ]
  },
  {
   "cell_type": "markdown",
   "metadata": {},
   "source": [
    "## Noise"
   ]
  },
  {
   "cell_type": "markdown",
   "metadata": {},
   "source": [
    "### White Noise alone"
   ]
  },
  {
   "cell_type": "code",
   "execution_count": null,
   "metadata": {
    "scrolled": true
   },
   "outputs": [],
   "source": [
    "white_noise = np.random.normal(0, 1, int(T * sr))\n",
    "Audio(white_noise, rate=sr)"
   ]
  },
  {
   "cell_type": "markdown",
   "metadata": {},
   "source": [
    "### Filtered noise\n",
    "With thanks to [scipy-cookbook](https://scipy-cookbook.readthedocs.io/items/ButterworthBandpass.html)"
   ]
  },
  {
   "cell_type": "code",
   "execution_count": null,
   "metadata": {},
   "outputs": [],
   "source": [
    "from scipy.signal import butter, lfilter\n",
    "\n",
    "def butter_bandpass(lowcut, highcut, fs, order=5):\n",
    "    nyq = 0.5 * fs\n",
    "    low = lowcut / nyq\n",
    "    high = highcut / nyq\n",
    "    b, a = butter(order, [low, high], btype='band')\n",
    "    return b, a\n",
    "\n",
    "\n",
    "def butter_bandpass_filter(data, lowcut, highcut, fs, order=5):\n",
    "    b, a = butter_bandpass(lowcut, highcut, fs, order=order)\n",
    "    y = lfilter(b, a, data)\n",
    "    return y"
   ]
  },
  {
   "cell_type": "code",
   "execution_count": null,
   "metadata": {},
   "outputs": [],
   "source": [
    "# Sample rate and desired cutoff frequencies (in Hz).\n",
    "fs = 5000.0\n",
    "lowcut = 50.0\n",
    "highcut = 1550.0\n",
    "\n",
    "filter_noise = butter_bandpass_filter(white_noise, lowcut, highcut, fs, order=6)\n",
    "\n",
    "Audio(filter_noise, rate=sr)"
   ]
  },
  {
   "cell_type": "markdown",
   "metadata": {},
   "source": [
    "## Combinations"
   ]
  },
  {
   "cell_type": "code",
   "execution_count": null,
   "metadata": {},
   "outputs": [],
   "source": [
    "Audio(one_tone + filter_noise, rate=sr)"
   ]
  },
  {
   "cell_type": "code",
   "execution_count": null,
   "metadata": {},
   "outputs": [],
   "source": [
    "Audio(one_tone + white_noise, rate=sr)"
   ]
  },
  {
   "cell_type": "markdown",
   "metadata": {},
   "source": [
    "## Plots to visualise\n",
    "\n",
    "What does this filtering do? Let's compare Fourier transforms of the white noise and the filtered noise profiles."
   ]
  },
  {
   "cell_type": "code",
   "execution_count": null,
   "metadata": {},
   "outputs": [],
   "source": [
    "import matplotlib.pyplot as plt\n",
    "\n",
    "def plot_fourier(noise_profile: np.array = white_noise):\n",
    "    X = np.fft.fft(noise_profile)\n",
    "    X_mag = np.absolute(X)\n",
    "    f = np.linspace(0, sr, len(X_mag))\n",
    "    \n",
    "    plt.figure(figsize=(10, 6))\n",
    "    \n",
    "    plot_proportion = 1  # how much to plot\n",
    "    plt.plot(f[:int(len(f) * plot_proportion)], X_mag[:int(len(X_mag) * plot_proportion)])\n",
    "    \n",
    "    axis_label_size = 14\n",
    "    plt.ylabel('FFT Amplitude $|X(freq)|$', fontsize=axis_label_size)\n",
    "    plt.xlabel('Frequency, $Hz$', fontsize=axis_label_size)"
   ]
  },
  {
   "cell_type": "code",
   "execution_count": null,
   "metadata": {},
   "outputs": [],
   "source": [
    "plot_fourier(noise_profile = white_noise)"
   ]
  },
  {
   "cell_type": "code",
   "execution_count": null,
   "metadata": {},
   "outputs": [],
   "source": [
    "plot_fourier(noise_profile = filter_noise)"
   ]
  }
 ],
 "metadata": {
  "colab": {
   "provenance": []
  },
  "kernelspec": {
   "display_name": "Python 3 (ipykernel)",
   "language": "python",
   "name": "python3"
  },
  "language_info": {
   "codemirror_mode": {
    "name": "ipython",
    "version": 3
   },
   "file_extension": ".py",
   "mimetype": "text/x-python",
   "name": "python",
   "nbconvert_exporter": "python",
   "pygments_lexer": "ipython3",
   "version": "3.12.4"
  }
 },
 "nbformat": 4,
 "nbformat_minor": 4
}
