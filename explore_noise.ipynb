{
 "cells": [
  {
   "cell_type": "markdown",
   "metadata": {},
   "source": [
    "# Workspace for Data Compression Tasks\n",
    "[Click here for the source repository](https://github.com/MarkGotham/Data_Compression)"
   ]
  },
  {
   "cell_type": "code",
   "execution_count": 1,
   "metadata": {},
   "outputs": [
    {
     "data": {
      "text/markdown": [
       "## Background\n",
       "\n",
       "## Explore noise\n",
       "First [`composite`](https://github.com/MarkGotham/Data_Compression/blob/main/composite.ipynb)\n",
       "created a roundtrip with a composite signal and Fourier transform on it.\n",
       "Then [`masking`](https://github.com/MarkGotham/Data_Compression/blob/main/masking.ipynb)\n",
       "explored the effect of noise masking a sound in _theory_.\n",
       "This notebook provides a space for experimenting with combined sound and noise signals in _practice_.\n",
       "\n",
       "\n",
       "## Task\n",
       "\n",
       "- Type: Explore/experiment\n",
       "- Task:\n",
       "  - Play around with the frequency and amplitude of\n",
       "    - the periodic signal (and or composite signal),\n",
       "    - with noise (in which case, frequency range)\n",
       "  - Note your limits: when do you stop hearing the signal?\n",
       "- Bonus:\n",
       "  - Go to the masking functions and see how well they match your experience and/or function.\n"
      ],
      "text/plain": [
       "<IPython.core.display.Markdown object>"
      ]
     },
     "execution_count": 1,
     "metadata": {},
     "output_type": "execute_result"
    }
   ],
   "source": [
    "from IPython.display import Markdown\n",
    "Markdown(\"./tasks/explore_noise.md\")"
   ]
  },
  {
   "cell_type": "markdown",
   "metadata": {},
   "source": [
    "## Exploration Template"
   ]
  },
  {
   "cell_type": "code",
   "execution_count": null,
   "metadata": {},
   "outputs": [],
   "source": [
    "from IPython.display import Audio\n",
    "import numpy as np"
   ]
  },
  {
   "cell_type": "code",
   "execution_count": null,
   "metadata": {},
   "outputs": [],
   "source": [
    "import numpy as np\n",
    "sr = 22050 # sample rate\n",
    "# sr *= 8\n",
    "T = 1.0    # seconds\n",
    "hz = 440\n",
    "time_array = np.linspace(0, T, int(T * sr))"
   ]
  },
  {
   "cell_type": "markdown",
   "metadata": {},
   "source": [
    "### Signal"
   ]
  },
  {
   "cell_type": "code",
   "execution_count": null,
   "metadata": {},
   "outputs": [],
   "source": [
    "# One tone alone\n",
    "\n",
    "amp = 1/2\n",
    "multiplier = 1/2\n",
    "one_tone = amp * np.sin(2 * np.pi * multiplier * hz * time_array)\n",
    "Audio(one_tone, rate=sr)"
   ]
  },
  {
   "cell_type": "code",
   "execution_count": null,
   "metadata": {},
   "outputs": [],
   "source": [
    "# # Composite signal (optional)\n",
    "\n",
    "# from implementations import composite_signal\n",
    "# comp = composite_signal.composite_signal(\n",
    "#     time_array,\n",
    "#     overtone_magnitude_dict = composite_signal.fundamental_w_partials(multiples = range(1, 50))\n",
    "# )\n",
    "# Audio(comp, rate=sr)"
   ]
  },
  {
   "cell_type": "markdown",
   "metadata": {},
   "source": [
    "## Noise"
   ]
  },
  {
   "cell_type": "markdown",
   "metadata": {},
   "source": [
    "### White Noise alone"
   ]
  },
  {
   "cell_type": "code",
   "execution_count": null,
   "metadata": {
    "scrolled": true
   },
   "outputs": [],
   "source": [
    "white_noise = np.random.normal(0, 1, int(T * sr))\n",
    "Audio(white_noise, rate=sr)"
   ]
  },
  {
   "cell_type": "markdown",
   "metadata": {},
   "source": [
    "### Filtered noise\n",
    "With thanks to [scipy-cookbook](https://scipy-cookbook.readthedocs.io/items/ButterworthBandpass.html)"
   ]
  },
  {
   "cell_type": "code",
   "execution_count": null,
   "metadata": {},
   "outputs": [],
   "source": [
    "from scipy.signal import butter, lfilter\n",
    "\n",
    "def butter_bandpass(lowcut, highcut, fs, order=5):\n",
    "    nyq = 0.5 * fs\n",
    "    low = lowcut / nyq\n",
    "    high = highcut / nyq\n",
    "    b, a = butter(order, [low, high], btype='band')\n",
    "    return b, a\n",
    "\n",
    "\n",
    "def butter_bandpass_filter(data, lowcut, highcut, fs, order=5):\n",
    "    b, a = butter_bandpass(lowcut, highcut, fs, order=order)\n",
    "    y = lfilter(b, a, data)\n",
    "    return y"
   ]
  },
  {
   "cell_type": "code",
   "execution_count": null,
   "metadata": {},
   "outputs": [],
   "source": [
    "# Sample rate and desired cutoff frequencies (in Hz).\n",
    "fs = 5000.0\n",
    "lowcut = 50.0\n",
    "highcut = 1550.0\n",
    "\n",
    "filter_noise = butter_bandpass_filter(white_noise, lowcut, highcut, fs, order=6)\n",
    "\n",
    "Audio(filter_noise, rate=sr)"
   ]
  },
  {
   "cell_type": "markdown",
   "metadata": {},
   "source": [
    "## Combinations"
   ]
  },
  {
   "cell_type": "code",
   "execution_count": null,
   "metadata": {},
   "outputs": [],
   "source": [
    "Audio(one_tone + filter_noise, rate=sr)"
   ]
  },
  {
   "cell_type": "code",
   "execution_count": null,
   "metadata": {},
   "outputs": [],
   "source": [
    "Audio(one_tone + white_noise, rate=sr)"
   ]
  }
 ],
 "metadata": {
  "colab": {
   "provenance": []
  },
  "kernelspec": {
   "display_name": "Python 3 (ipykernel)",
   "language": "python",
   "name": "python3"
  },
  "language_info": {
   "codemirror_mode": {
    "name": "ipython",
    "version": 3
   },
   "file_extension": ".py",
   "mimetype": "text/x-python",
   "name": "python",
   "nbconvert_exporter": "python",
   "pygments_lexer": "ipython3",
   "version": "3.12.4"
  }
 },
 "nbformat": 4,
 "nbformat_minor": 4
}
