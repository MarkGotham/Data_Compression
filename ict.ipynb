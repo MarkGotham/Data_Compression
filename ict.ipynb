{
 "cells": [
  {
   "cell_type": "markdown",
   "metadata": {},
   "source": [
    "# Workspace for Data Compression Tasks"
   ]
  },
  {
   "cell_type": "code",
   "execution_count": 2,
   "metadata": {
    "scrolled": true
   },
   "outputs": [
    {
     "data": {
      "text/markdown": [
       "## Background\n",
       "\n",
       "JPEG involves converting RGB to YCbCr.\n",
       "JPEG2000 involves similar colour space transformations called \n",
       "reversible component transform (RCT) \n",
       "and irreversible component transform (ICT).\n",
       "Being reversible, RCT is used in lossless compression.\n",
       "ICT is irreversible and therefore involves lossy compression.\n",
       "Each transformed component is then compressed separately.\n",
       "\n",
       "More precisely, given a colour image in three colour components (e.g., RGB)\n",
       "1. first perform a DC level shifting on each component.\n",
       "    If the pixel values range in the interval from 0 to $2k −1$, then we subtract $2k −1$ from each pixel value.\n",
       "2. then transform the resulting three components by either RCT or ICT.\n",
       "\n",
       "\n",
       "## RCT and ICT\n",
       "\n",
       "Let $I_0, I_1, I_2$ denote the three colour components of a certain pixel (after DC shifting).\n",
       "Then the RCT is the triple $(Y_0, Y_1, Y_2)$ given by\n",
       "$$\n",
       "\\begin{align*}\n",
       "    Y_0 &= \\left\\lfloor \\frac{I_0 + 2 I_1 + I_2}{4} \\right\\rfloor,\\\\\n",
       "    Y_1 &= I_2 - I_1,\\\\\n",
       "    Y_2 &= I_0 - I_1.\n",
       "\\end{align*}\n",
       "$$\n",
       "\n",
       "The ICT is given by\n",
       "$$\n",
       "\\begin{align*}\n",
       "    Y_0 &= 0.299 I_0 + 0.587 I_1 + 0.144 I_2,\\\\\n",
       "    Y_1 &= -0.16875 I_0 - 0.33126 I_1 + 0.5 I_2,\\\\\n",
       "    Y_2 &= 0.5 I_0 - 0.41869 I_1 - 0.08131 I_2.\n",
       "\\end{align*}\n",
       "$$\n",
       "\n",
       "\n",
       "## Task\n",
       "\n",
       "- Type: Implementation\n",
       "- Task:\n",
       "    Implement the RCT and ICT (ir/reversible component transforms)\n",
       "    directly from RGB tuples\n",
       "- Hint: don't forget the DC level shifting on each component first.\n",
       "- Reference implementations:\n",
       "    `jpeg2000.rct`,\n",
       "    `jpeg2000.ict`\n"
      ],
      "text/plain": [
       "<IPython.core.display.Markdown object>"
      ]
     },
     "execution_count": 2,
     "metadata": {},
     "output_type": "execute_result"
    }
   ],
   "source": [
    "from IPython.display import Markdown\n",
    "Markdown(\"./tasks/ict.md\")  # Load the reference text"
   ]
  },
  {
   "cell_type": "markdown",
   "metadata": {},
   "source": [
    "## Workspace"
   ]
  },
  {
   "cell_type": "code",
   "execution_count": null,
   "metadata": {},
   "outputs": [],
   "source": []
  },
  {
   "cell_type": "markdown",
   "metadata": {},
   "source": [
    "## Reference"
   ]
  },
  {
   "cell_type": "code",
   "execution_count": 4,
   "metadata": {},
   "outputs": [
    {
     "data": {
      "text/markdown": [
       "- Reference implementations are provided in this repo.\n",
       "- The cells below show how to access implementations relevant to this session.\n",
       "\n",
       "How to use?\n",
       "- Try the task yourself in the workspace above, and then import the reference to compare answers.\n",
       "- If you're struggling, find the function named here in the source repo. to compare the approach."
      ],
      "text/plain": [
       "<IPython.core.display.Markdown object>"
      ]
     },
     "execution_count": 4,
     "metadata": {},
     "output_type": "execute_result"
    }
   ],
   "source": [
    "Markdown(\"./tasks/reference.md\")  # Load the reference text"
   ]
  },
  {
   "cell_type": "code",
   "execution_count": null,
   "metadata": {},
   "outputs": [],
   "source": [
    "from implementations import jpeg2000"
   ]
  },
  {
   "cell_type": "code",
   "execution_count": null,
   "metadata": {},
   "outputs": [],
   "source": [
    "example = (100, 150, 200)"
   ]
  },
  {
   "cell_type": "code",
   "execution_count": null,
   "metadata": {},
   "outputs": [],
   "source": [
    "jpeg2000.rct(example)"
   ]
  },
  {
   "cell_type": "code",
   "execution_count": null,
   "metadata": {},
   "outputs": [],
   "source": [
    "jpeg2000.ict(example)"
   ]
  },
  {
   "cell_type": "code",
   "execution_count": null,
   "metadata": {},
   "outputs": [],
   "source": []
  }
 ],
 "metadata": {
  "colab": {
   "provenance": []
  },
  "kernelspec": {
   "display_name": "Python 3 (ipykernel)",
   "language": "python",
   "name": "python3"
  },
  "language_info": {
   "codemirror_mode": {
    "name": "ipython",
    "version": 3
   },
   "file_extension": ".py",
   "mimetype": "text/x-python",
   "name": "python",
   "nbconvert_exporter": "python",
   "pygments_lexer": "ipython3",
   "version": "3.12.4"
  }
 },
 "nbformat": 4,
 "nbformat_minor": 4
}
