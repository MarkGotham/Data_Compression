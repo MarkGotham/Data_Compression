{
 "cells": [
  {
   "cell_type": "markdown",
   "metadata": {},
   "source": [
    "# Workspace for Data Compression Tasks\n",
    "[Click here for the source repository](https://github.com/MarkGotham/Data_Compression)"
   ]
  },
  {
   "cell_type": "code",
   "execution_count": 2,
   "metadata": {},
   "outputs": [
    {
     "data": {
      "text/markdown": [
       "## Background\n",
       "\n",
       "There are many relevant python libraries for our purposes.\n",
       "\n",
       "In later notebooks, we'll use `scikit-image`\n",
       "- [Docs](https://scikit-image.org/)\n",
       "- [Source code](https://github.com/scikit-image/scikit-image)\n",
       "  - e.g., the function that sets RGB weightings in the source code is [here ('rgb2gray')](https://github.com/scikit-image/scikit-image/blob/v0.22.0/skimage/color/colorconv.py#L912-L955)\n",
       "- Note:\n",
       "  - Install: `scikit-image`\n",
       "  - Import: `import skimage`\n",
       "\n",
       "Some alternatives include ...\n",
       "- `pillow` ('general image processing tool')\n",
       "  - [Docs](https://pillow.readthedocs.io/en/)\n",
       "  - [Source](https://github.com/python-pillow/Pillow/)\n",
       "  - Note:\n",
       "    - This is a fork (and extension) of \"PIL\": the Python Imaging Library.\n",
       "    - The [functionality for jpeg-2000 here](https://pillow.readthedocs.io/en/stable/handbook/image-file-formats.html#jpeg-2000).\n",
       "- `glymur` (specifically for JPEG2000)\n",
       "  - [Docs](https://glymur.readthedocs.io/en/latest/how_do_i.html)\n",
       "  - [Source code](https://github.com/quintusdias/glymur)\n",
       "- `Opencv` \n",
       "  - [Docs](https://docs.opencv.org/4.x/index.html)\n",
       "  - [Source code](https://github.com/opencv/opencv)\n",
       "  - Note:\n",
       "    - Also for video.\n",
       "    - Install: `pip3 install opencv-python`\n",
       "    - Import: `import cv2` \n",
       "\n",
       "\n",
       " ## Task\n",
       "\n",
       "- Type: Explore\n",
       "- Task: Import and explore `scikit-image` and/or another one of above libraries for handling images.\n"
      ],
      "text/plain": [
       "<IPython.core.display.Markdown object>"
      ]
     },
     "execution_count": 2,
     "metadata": {},
     "output_type": "execute_result"
    }
   ],
   "source": [
    "from IPython.display import Markdown\n",
    "Markdown(\"./tasks/explore_image.md\")"
   ]
  },
  {
   "cell_type": "markdown",
   "metadata": {},
   "source": [
    "## Workspace"
   ]
  },
  {
   "cell_type": "code",
   "execution_count": null,
   "metadata": {},
   "outputs": [],
   "source": []
  },
  {
   "cell_type": "code",
   "execution_count": null,
   "metadata": {},
   "outputs": [],
   "source": []
  },
  {
   "cell_type": "code",
   "execution_count": null,
   "metadata": {},
   "outputs": [],
   "source": []
  },
  {
   "cell_type": "markdown",
   "metadata": {},
   "source": [
    "# Reference"
   ]
  },
  {
   "cell_type": "markdown",
   "metadata": {},
   "source": [
    "## Glymur"
   ]
  },
  {
   "cell_type": "code",
   "execution_count": null,
   "metadata": {},
   "outputs": [],
   "source": [
    "import glymur"
   ]
  },
  {
   "cell_type": "code",
   "execution_count": null,
   "metadata": {},
   "outputs": [],
   "source": [
    "j2kfile = glymur.data.goodstuff() # path to a raw JPEG 2000 codestream\n",
    "j2k = glymur.Jp2k(j2kfile)\n",
    "fullres = j2k[:]\n",
    "fullres.shape  # (800, 480, 3)"
   ]
  },
  {
   "cell_type": "code",
   "execution_count": null,
   "metadata": {},
   "outputs": [],
   "source": [
    "fullres[0:8, 0:8]"
   ]
  },
  {
   "cell_type": "code",
   "execution_count": null,
   "metadata": {},
   "outputs": [],
   "source": [
    "# Or for less resolution, e.g.:\n",
    "thumbnail = j2k[::2, ::2]\n",
    "thumbnail.shape  # (400, 240, 3)"
   ]
  },
  {
   "cell_type": "markdown",
   "metadata": {},
   "source": [
    "## Scikit-image"
   ]
  },
  {
   "cell_type": "code",
   "execution_count": null,
   "metadata": {},
   "outputs": [],
   "source": [
    "import skimage as ski"
   ]
  },
  {
   "cell_type": "code",
   "execution_count": null,
   "metadata": {},
   "outputs": [],
   "source": [
    "# Work on images as numpy arrays\n",
    "camera = ski.data.camera()\n",
    "type(camera)"
   ]
  },
  {
   "cell_type": "code",
   "execution_count": null,
   "metadata": {},
   "outputs": [],
   "source": [
    "# Le's take a look at one of their stock images\n",
    "ski.io.imshow(camera)\n",
    "ski.io.show()"
   ]
  },
  {
   "cell_type": "markdown",
   "metadata": {},
   "source": [
    "Retrieve the shape, and size, and note that the shape (m-by-n) gives the size"
   ]
  },
  {
   "cell_type": "code",
   "execution_count": null,
   "metadata": {},
   "outputs": [],
   "source": [
    "camera.shape  # (512, 512)"
   ]
  },
  {
   "cell_type": "code",
   "execution_count": null,
   "metadata": {},
   "outputs": [],
   "source": [
    "camera.size  # 262144"
   ]
  },
  {
   "cell_type": "code",
   "execution_count": null,
   "metadata": {},
   "outputs": [],
   "source": [
    "assert (camera.shape[0] * camera.shape[1] == camera.size)"
   ]
  },
  {
   "cell_type": "markdown",
   "metadata": {},
   "source": [
    "Now take part of the image"
   ]
  },
  {
   "cell_type": "code",
   "execution_count": null,
   "metadata": {},
   "outputs": [],
   "source": [
    "# Show top left square, first reasonable size\n",
    "top_left = camera[0:80, 0:80]\n",
    "top_left"
   ]
  },
  {
   "cell_type": "code",
   "execution_count": null,
   "metadata": {},
   "outputs": [],
   "source": [
    "ski.io.imshow(top_left)\n",
    "ski.io.show()"
   ]
  },
  {
   "cell_type": "markdown",
   "metadata": {},
   "source": [
    "Now just an 8x8 pixel block"
   ]
  },
  {
   "cell_type": "code",
   "execution_count": null,
   "metadata": {},
   "outputs": [],
   "source": [
    "top_left_8_8 = camera[0:8, 0:8]\n",
    "top_left_8_8"
   ]
  },
  {
   "cell_type": "markdown",
   "metadata": {},
   "source": [
    "Note the values near(ish) 255 for this light part.\n",
    "\n",
    "Fianlly, let's get the range across the whole image."
   ]
  },
  {
   "cell_type": "code",
   "execution_count": null,
   "metadata": {},
   "outputs": [],
   "source": [
    "camera.min(), camera.max()  # (0, 255)"
   ]
  },
  {
   "cell_type": "markdown",
   "metadata": {},
   "source": [
    "... So we're looking at a 0–255, single value colour space."
   ]
  },
  {
   "cell_type": "markdown",
   "metadata": {},
   "source": [
    "## `scikit-image` does colour images\n",
    "\n",
    "Obviously scikit-image handles colour images too."
   ]
  },
  {
   "cell_type": "code",
   "execution_count": null,
   "metadata": {},
   "outputs": [],
   "source": [
    "cat = ski.data.chelsea()\n",
    "ski.io.imshow(cat)\n",
    "ski.io.show()"
   ]
  },
  {
   "cell_type": "markdown",
   "metadata": {},
   "source": [
    "In this image note the 3 values in the `shape`:\n",
    "- 2 for size (300, 451)\n",
    "- 1 for the RBG values of each pixel (3)"
   ]
  },
  {
   "cell_type": "code",
   "execution_count": null,
   "metadata": {},
   "outputs": [],
   "source": [
    "cat.shape\n",
    "(300, 451, 3)"
   ]
  },
  {
   "cell_type": "markdown",
   "metadata": {},
   "source": [
    "Once again, we retrieve an 8x8 block"
   ]
  },
  {
   "cell_type": "code",
   "execution_count": null,
   "metadata": {
    "scrolled": true
   },
   "outputs": [],
   "source": [
    "cat_8x8 = cat[0:8, 0:8]\n",
    "cat_8x8"
   ]
  }
 ],
 "metadata": {
  "colab": {
   "provenance": []
  },
  "kernelspec": {
   "display_name": "Python 3 (ipykernel)",
   "language": "python",
   "name": "python3"
  },
  "language_info": {
   "codemirror_mode": {
    "name": "ipython",
    "version": 3
   },
   "file_extension": ".py",
   "mimetype": "text/x-python",
   "name": "python",
   "nbconvert_exporter": "python",
   "pygments_lexer": "ipython3",
   "version": "3.12.4"
  }
 },
 "nbformat": 4,
 "nbformat_minor": 4
}
