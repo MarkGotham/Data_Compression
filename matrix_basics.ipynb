{
 "cells": [
  {
   "cell_type": "markdown",
   "metadata": {},
   "source": [
    "# Workspace for Data Compression Tasks\n",
    "\n",
    "Basic demonstrations of matrix manipulation.\n",
    "\n",
    "[Click here for the source repository](https://github.com/MarkGotham/Data_Compression)"
   ]
  },
  {
   "cell_type": "code",
   "execution_count": null,
   "metadata": {},
   "outputs": [],
   "source": [
    "import numpy as np"
   ]
  },
  {
   "cell_type": "markdown",
   "metadata": {},
   "source": [
    "# Scalar\n",
    "\n",
    "Add/subtract/multiply/divide by a single scalar value\n",
    "applies that operation to each entry in an array."
   ]
  },
  {
   "cell_type": "code",
   "execution_count": null,
   "metadata": {},
   "outputs": [],
   "source": [
    "a = np.array([1, 2, 3])\n",
    "a"
   ]
  },
  {
   "cell_type": "code",
   "execution_count": null,
   "metadata": {},
   "outputs": [],
   "source": [
    "a + 1"
   ]
  },
  {
   "cell_type": "code",
   "execution_count": null,
   "metadata": {},
   "outputs": [],
   "source": [
    "a - 1"
   ]
  },
  {
   "cell_type": "code",
   "execution_count": null,
   "metadata": {},
   "outputs": [],
   "source": [
    "a * 2"
   ]
  },
  {
   "cell_type": "code",
   "execution_count": null,
   "metadata": {},
   "outputs": [],
   "source": [
    "a / 2"
   ]
  },
  {
   "cell_type": "markdown",
   "metadata": {},
   "source": [
    "# Matrix multiplication\n",
    "\n",
    "This block is about the difference between ...\n",
    "\n",
    "- multiplication by scalar values\n",
    "- dot product as the sum of multiplied pairs\n",
    "\n",
    "... and the python operations for getting both."
   ]
  },
  {
   "cell_type": "markdown",
   "metadata": {},
   "source": [
    "First, note that `a` is unchanged by the operations above:"
   ]
  },
  {
   "cell_type": "code",
   "execution_count": null,
   "metadata": {},
   "outputs": [],
   "source": [
    "a"
   ]
  },
  {
   "cell_type": "markdown",
   "metadata": {},
   "source": [
    "Now let's take another array."
   ]
  },
  {
   "cell_type": "code",
   "execution_count": null,
   "metadata": {},
   "outputs": [],
   "source": [
    "b = np.array([4, 5, 6])\n",
    "b"
   ]
  },
  {
   "cell_type": "markdown",
   "metadata": {},
   "source": [
    "Simple, element-wise multiplication gives us an array ..."
   ]
  },
  {
   "cell_type": "code",
   "execution_count": null,
   "metadata": {},
   "outputs": [],
   "source": [
    "a * b  # element-wise = different"
   ]
  },
  {
   "cell_type": "markdown",
   "metadata": {},
   "source": [
    "... and summing that gives a single value ..."
   ]
  },
  {
   "cell_type": "code",
   "execution_count": null,
   "metadata": {},
   "outputs": [],
   "source": [
    "sum(a * b)"
   ]
  },
  {
   "cell_type": "markdown",
   "metadata": {},
   "source": [
    "This is the mathematics of the 'dot product' which is behind the following operations:"
   ]
  },
  {
   "cell_type": "code",
   "execution_count": null,
   "metadata": {},
   "outputs": [],
   "source": [
    "a @ b"
   ]
  },
  {
   "cell_type": "code",
   "execution_count": null,
   "metadata": {},
   "outputs": [],
   "source": [
    "np.dot(a, b)"
   ]
  },
  {
   "cell_type": "code",
   "execution_count": null,
   "metadata": {},
   "outputs": [],
   "source": [
    "np.matmul(a, b)"
   ]
  },
  {
   "cell_type": "markdown",
   "metadata": {},
   "source": [
    "## Indexing (part of an array)"
   ]
  },
  {
   "cell_type": "code",
   "execution_count": null,
   "metadata": {},
   "outputs": [],
   "source": [
    "c = np.arange(16).reshape(4, 4)\n",
    "c"
   ]
  },
  {
   "cell_type": "code",
   "execution_count": null,
   "metadata": {},
   "outputs": [],
   "source": [
    "c[0, 1]  # normal list-like indexing. Here a single position where m=0, n=1"
   ]
  },
  {
   "cell_type": "code",
   "execution_count": null,
   "metadata": {},
   "outputs": [],
   "source": [
    "c[1, 0:4]  # second row (index 1)"
   ]
  },
  {
   "cell_type": "code",
   "execution_count": null,
   "metadata": {},
   "outputs": [],
   "source": [
    "c[1,]  # or equivalently"
   ]
  },
  {
   "cell_type": "code",
   "execution_count": null,
   "metadata": {},
   "outputs": [],
   "source": [
    "c[0:4,1]  # second column (index 1)"
   ]
  },
  {
   "cell_type": "code",
   "execution_count": null,
   "metadata": {},
   "outputs": [],
   "source": [
    "c[1::]  # from row 1 (skip first, 0-index row)"
   ]
  },
  {
   "cell_type": "code",
   "execution_count": null,
   "metadata": {},
   "outputs": [],
   "source": [
    "c[::2]  # every other row"
   ]
  },
  {
   "cell_type": "code",
   "execution_count": null,
   "metadata": {},
   "outputs": [],
   "source": [
    "c[0:2, 0:2]  # a 2x2 square within the 4x4."
   ]
  },
  {
   "cell_type": "markdown",
   "metadata": {},
   "source": [
    "## A note on (2) dimensions\n",
    "\n",
    "m-by-n or x-by-y?\n",
    "\n",
    "In NumPy, it's rows, then columns (m, then n). This:\n",
    "- matches matrix/linear algebra notation\n",
    "- matches non-numpy list of lists (as below)\n",
    "- differs from Cartesian (x, y) coordinates which are the \"other way round\""
   ]
  },
  {
   "cell_type": "code",
   "execution_count": null,
   "metadata": {},
   "outputs": [],
   "source": [
    "list_of_lists = [[0, 1, 2], [3, 4, 5]]"
   ]
  },
  {
   "cell_type": "code",
   "execution_count": null,
   "metadata": {},
   "outputs": [],
   "source": [
    "list_of_lists[1][0]"
   ]
  },
  {
   "cell_type": "code",
   "execution_count": null,
   "metadata": {},
   "outputs": [],
   "source": [
    "np.array(list_of_lists)[1][0]"
   ]
  },
  {
   "cell_type": "markdown",
   "metadata": {},
   "source": [
    "# Task and reference"
   ]
  },
  {
   "cell_type": "code",
   "execution_count": 2,
   "metadata": {},
   "outputs": [
    {
     "data": {
      "text/markdown": [
       "## Background\n",
       "\n",
       "The information above concerning basic mathematical operations on matrices\n",
       "should be enough to take on the tasks below.\n",
       "These are a bit more involved, and also more relevant to operations we'll use in data compression.\n",
       "\n",
       "## Task\n",
       "\n",
       "- Type: Implement\n",
       "\n",
       "- Tasks: Write functions to ...\n",
       "  1. Get the `shape` (m- and n-dimensions) of any 1- or 2-D array. \n",
       "  2. 'Pad' (expand) an array to double the length and width (4x the size in total) with zeros to the right and below.\n",
       "  3. Reduce an array to half the length and width (1/4 total), taking the top and left most block.\n",
       "  4. Implement the dot product above for 2-D arrays from scratch.\n",
       "\n",
       "- Reference implementations:\n",
       "  1. `matrix_basics.get_m_n()`\n",
       "  2. `matrix_basics.pad_2x2()`\n",
       "  3. `matrix_basics.back_to_half()` (this complements `pad_2x2`)\n",
       "  4. Locally `matrix_basics.dot_from_scratch()`, as well as in `numpy`:\n",
       "     - `np.dot(a, b)`, `np.matmul(a, b)` and `a @ b` (where a and b are np.arrays)\n",
       "     - Bonus: check your work with `np.allclose`."
      ],
      "text/plain": [
       "<IPython.core.display.Markdown object>"
      ]
     },
     "execution_count": 2,
     "metadata": {},
     "output_type": "execute_result"
    }
   ],
   "source": [
    "from IPython.display import Markdown\n",
    "Markdown(\"./tasks/matrix_basics.md\")  # Load the task text"
   ]
  },
  {
   "cell_type": "markdown",
   "metadata": {},
   "source": [
    "## Workspace"
   ]
  },
  {
   "cell_type": "code",
   "execution_count": null,
   "metadata": {},
   "outputs": [],
   "source": []
  },
  {
   "cell_type": "markdown",
   "metadata": {},
   "source": [
    "## Reference"
   ]
  },
  {
   "cell_type": "code",
   "execution_count": 4,
   "metadata": {},
   "outputs": [
    {
     "data": {
      "text/markdown": [
       "- Reference implementations are provided in this repo.\n",
       "- The cells below show how to access implementations relevant to this session.\n",
       "\n",
       "How to use?\n",
       "- Try the task yourself in the workspace above, and then import the reference to compare answers.\n",
       "- If you're struggling, find the function named here in the source repo. to compare the approach."
      ],
      "text/plain": [
       "<IPython.core.display.Markdown object>"
      ]
     },
     "execution_count": 4,
     "metadata": {},
     "output_type": "execute_result"
    }
   ],
   "source": [
    "Markdown(\"./tasks/reference.md\")  # Load the reference text"
   ]
  },
  {
   "cell_type": "code",
   "execution_count": null,
   "metadata": {},
   "outputs": [],
   "source": [
    "from implementations import matrix_basics\n",
    "matrix_basics.get_m_n(c)\n",
    "# matrix_basics.pad_2x2(c)\n",
    "# matrix_basics.back_to_half(c)\n",
    "# matrix_basics.dot_from_scratch(a, b)"
   ]
  }
 ],
 "metadata": {
  "colab": {
   "provenance": []
  },
  "kernelspec": {
   "display_name": "Python 3 (ipykernel)",
   "language": "python",
   "name": "python3"
  },
  "language_info": {
   "codemirror_mode": {
    "name": "ipython",
    "version": 3
   },
   "file_extension": ".py",
   "mimetype": "text/x-python",
   "name": "python",
   "nbconvert_exporter": "python",
   "pygments_lexer": "ipython3",
   "version": "3.12.4"
  }
 },
 "nbformat": 4,
 "nbformat_minor": 4
}
